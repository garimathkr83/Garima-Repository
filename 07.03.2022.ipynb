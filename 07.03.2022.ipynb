{
 "cells": [
  {
   "cell_type": "code",
   "execution_count": 1,
   "id": "009393b7",
   "metadata": {},
   "outputs": [],
   "source": [
    "a = \"learn to code\""
   ]
  },
  {
   "cell_type": "code",
   "execution_count": 2,
   "id": "6727c04d",
   "metadata": {},
   "outputs": [
    {
     "data": {
      "text/plain": [
       "str"
      ]
     },
     "execution_count": 2,
     "metadata": {},
     "output_type": "execute_result"
    }
   ],
   "source": [
    "type(a)"
   ]
  },
  {
   "cell_type": "code",
   "execution_count": 3,
   "id": "01e295fe",
   "metadata": {},
   "outputs": [
    {
     "data": {
      "text/plain": [
       "'learn to code'"
      ]
     },
     "execution_count": 3,
     "metadata": {},
     "output_type": "execute_result"
    }
   ],
   "source": [
    "str(a)"
   ]
  },
  {
   "cell_type": "code",
   "execution_count": 4,
   "id": "eeb9bf3f",
   "metadata": {},
   "outputs": [],
   "source": [
    "b = \"practice every day\""
   ]
  },
  {
   "cell_type": "code",
   "execution_count": 5,
   "id": "0a00e772",
   "metadata": {},
   "outputs": [
    {
     "data": {
      "text/plain": [
       "str"
      ]
     },
     "execution_count": 5,
     "metadata": {},
     "output_type": "execute_result"
    }
   ],
   "source": [
    "type(b)"
   ]
  },
  {
   "cell_type": "code",
   "execution_count": 6,
   "id": "a14de942",
   "metadata": {},
   "outputs": [
    {
     "data": {
      "text/plain": [
       "'practice every day'"
      ]
     },
     "execution_count": 6,
     "metadata": {},
     "output_type": "execute_result"
    }
   ],
   "source": [
    "str(b)"
   ]
  },
  {
   "cell_type": "code",
   "execution_count": 7,
   "id": "eb325e47",
   "metadata": {},
   "outputs": [],
   "source": [
    "c = \"how to extract particular phrase or word or line from a complete book or document?\""
   ]
  },
  {
   "cell_type": "code",
   "execution_count": 8,
   "id": "c17b176b",
   "metadata": {},
   "outputs": [
    {
     "data": {
      "text/plain": [
       "str"
      ]
     },
     "execution_count": 8,
     "metadata": {},
     "output_type": "execute_result"
    }
   ],
   "source": [
    "type(c)"
   ]
  },
  {
   "cell_type": "code",
   "execution_count": 9,
   "id": "e902862c",
   "metadata": {},
   "outputs": [
    {
     "data": {
      "text/plain": [
       "'how to extract particular phrase or word or line from a complete book or document?'"
      ]
     },
     "execution_count": 9,
     "metadata": {},
     "output_type": "execute_result"
    }
   ],
   "source": [
    "str(c)"
   ]
  },
  {
   "cell_type": "code",
   "execution_count": 10,
   "id": "cc331fbb",
   "metadata": {},
   "outputs": [],
   "source": [
    "d = \"exploring string variable in best possible way\""
   ]
  },
  {
   "cell_type": "code",
   "execution_count": 11,
   "id": "93600559",
   "metadata": {},
   "outputs": [
    {
     "data": {
      "text/plain": [
       "'exploring string variable in best possible way'"
      ]
     },
     "execution_count": 11,
     "metadata": {},
     "output_type": "execute_result"
    }
   ],
   "source": [
    "str(d)"
   ]
  },
  {
   "cell_type": "code",
   "execution_count": 14,
   "id": "0812ada6",
   "metadata": {},
   "outputs": [],
   "source": [
    "e = \"computer gives indexing to each character inside a string starting from zero in forward dirsction and can also do in backward direction\""
   ]
  },
  {
   "cell_type": "code",
   "execution_count": 15,
   "id": "1633f750",
   "metadata": {},
   "outputs": [
    {
     "data": {
      "text/plain": [
       "'computer gives indexing to each character inside a string starting from zero in forward dirsction and can also do in backward direction'"
      ]
     },
     "execution_count": 15,
     "metadata": {},
     "output_type": "execute_result"
    }
   ],
   "source": [
    "str(e)"
   ]
  },
  {
   "cell_type": "code",
   "execution_count": 16,
   "id": "16d79948",
   "metadata": {},
   "outputs": [
    {
     "data": {
      "text/plain": [
       "'e'"
      ]
     },
     "execution_count": 16,
     "metadata": {},
     "output_type": "execute_result"
    }
   ],
   "source": [
    "d[0]"
   ]
  },
  {
   "cell_type": "code",
   "execution_count": 17,
   "id": "4c0420af",
   "metadata": {},
   "outputs": [
    {
     "data": {
      "text/plain": [
       "'x'"
      ]
     },
     "execution_count": 17,
     "metadata": {},
     "output_type": "execute_result"
    }
   ],
   "source": [
    "d[1]"
   ]
  },
  {
   "cell_type": "code",
   "execution_count": 18,
   "id": "5af24290",
   "metadata": {},
   "outputs": [
    {
     "data": {
      "text/plain": [
       "'p'"
      ]
     },
     "execution_count": 18,
     "metadata": {},
     "output_type": "execute_result"
    }
   ],
   "source": [
    "d[2]"
   ]
  },
  {
   "cell_type": "code",
   "execution_count": 19,
   "id": "32cf02d0",
   "metadata": {},
   "outputs": [
    {
     "data": {
      "text/plain": [
       "'l'"
      ]
     },
     "execution_count": 19,
     "metadata": {},
     "output_type": "execute_result"
    }
   ],
   "source": [
    "d[3]"
   ]
  },
  {
   "cell_type": "code",
   "execution_count": 20,
   "id": "cfb3e80e",
   "metadata": {},
   "outputs": [
    {
     "data": {
      "text/plain": [
       "'r'"
      ]
     },
     "execution_count": 20,
     "metadata": {},
     "output_type": "execute_result"
    }
   ],
   "source": [
    "d[5]"
   ]
  },
  {
   "cell_type": "code",
   "execution_count": 21,
   "id": "9d71b45a",
   "metadata": {},
   "outputs": [
    {
     "data": {
      "text/plain": [
       "'i'"
      ]
     },
     "execution_count": 21,
     "metadata": {},
     "output_type": "execute_result"
    }
   ],
   "source": [
    "d[6]"
   ]
  },
  {
   "cell_type": "code",
   "execution_count": 22,
   "id": "eab75c10",
   "metadata": {},
   "outputs": [
    {
     "ename": "NameError",
     "evalue": "name 'g' is not defined",
     "output_type": "error",
     "traceback": [
      "\u001b[1;31m---------------------------------------------------------------------------\u001b[0m",
      "\u001b[1;31mNameError\u001b[0m                                 Traceback (most recent call last)",
      "\u001b[1;32m~\\AppData\\Local\\Temp/ipykernel_3220/182673896.py\u001b[0m in \u001b[0;36m<module>\u001b[1;34m\u001b[0m\n\u001b[1;32m----> 1\u001b[1;33m \u001b[0mg\u001b[0m\u001b[1;33m[\u001b[0m\u001b[1;36m7\u001b[0m\u001b[1;33m]\u001b[0m\u001b[1;33m\u001b[0m\u001b[1;33m\u001b[0m\u001b[0m\n\u001b[0m",
      "\u001b[1;31mNameError\u001b[0m: name 'g' is not defined"
     ]
    }
   ],
   "source": [
    "g[7]"
   ]
  },
  {
   "cell_type": "code",
   "execution_count": 23,
   "id": "22b3bcca",
   "metadata": {},
   "outputs": [
    {
     "data": {
      "text/plain": [
       "'n'"
      ]
     },
     "execution_count": 23,
     "metadata": {},
     "output_type": "execute_result"
    }
   ],
   "source": [
    "d[7]"
   ]
  },
  {
   "cell_type": "code",
   "execution_count": 24,
   "id": "491a7d44",
   "metadata": {},
   "outputs": [
    {
     "data": {
      "text/plain": [
       "'g'"
      ]
     },
     "execution_count": 24,
     "metadata": {},
     "output_type": "execute_result"
    }
   ],
   "source": [
    "d[8]"
   ]
  },
  {
   "cell_type": "code",
   "execution_count": 25,
   "id": "22c565e9",
   "metadata": {},
   "outputs": [
    {
     "data": {
      "text/plain": [
       "' '"
      ]
     },
     "execution_count": 25,
     "metadata": {},
     "output_type": "execute_result"
    }
   ],
   "source": [
    "d[9]"
   ]
  },
  {
   "cell_type": "code",
   "execution_count": 26,
   "id": "bee7aa7f",
   "metadata": {},
   "outputs": [
    {
     "data": {
      "text/plain": [
       "'s'"
      ]
     },
     "execution_count": 26,
     "metadata": {},
     "output_type": "execute_result"
    }
   ],
   "source": [
    "d[10]"
   ]
  },
  {
   "cell_type": "code",
   "execution_count": 27,
   "id": "879e00dd",
   "metadata": {},
   "outputs": [
    {
     "data": {
      "text/plain": [
       "'y'"
      ]
     },
     "execution_count": 27,
     "metadata": {},
     "output_type": "execute_result"
    }
   ],
   "source": [
    "d[-1]"
   ]
  },
  {
   "cell_type": "code",
   "execution_count": 28,
   "id": "a71f1754",
   "metadata": {},
   "outputs": [],
   "source": [
    "f = \"indexing is 0,1,2,3 etc in forwrad direction and -1,-2,-3 etc from backward direction\""
   ]
  },
  {
   "cell_type": "code",
   "execution_count": 29,
   "id": "25f9d008",
   "metadata": {},
   "outputs": [
    {
     "data": {
      "text/plain": [
       "'indexing is 0,1,2,3 etc in forwrad direction and -1,-2,-3 etc from backward direction'"
      ]
     },
     "execution_count": 29,
     "metadata": {},
     "output_type": "execute_result"
    }
   ],
   "source": [
    "f"
   ]
  },
  {
   "cell_type": "code",
   "execution_count": 30,
   "id": "61fdab5c",
   "metadata": {},
   "outputs": [
    {
     "data": {
      "text/plain": [
       "str"
      ]
     },
     "execution_count": 30,
     "metadata": {},
     "output_type": "execute_result"
    }
   ],
   "source": [
    "type(f)"
   ]
  },
  {
   "cell_type": "code",
   "execution_count": 31,
   "id": "cae19e85",
   "metadata": {},
   "outputs": [
    {
     "data": {
      "text/plain": [
       "'a'"
      ]
     },
     "execution_count": 31,
     "metadata": {},
     "output_type": "execute_result"
    }
   ],
   "source": [
    "d[-2]"
   ]
  },
  {
   "cell_type": "code",
   "execution_count": 32,
   "id": "3a2945ef",
   "metadata": {},
   "outputs": [
    {
     "data": {
      "text/plain": [
       "'w'"
      ]
     },
     "execution_count": 32,
     "metadata": {},
     "output_type": "execute_result"
    }
   ],
   "source": [
    "d[-3]"
   ]
  },
  {
   "cell_type": "code",
   "execution_count": 33,
   "id": "3f3887de",
   "metadata": {},
   "outputs": [
    {
     "data": {
      "text/plain": [
       "'i'"
      ]
     },
     "execution_count": 33,
     "metadata": {},
     "output_type": "execute_result"
    }
   ],
   "source": [
    "f[0]"
   ]
  },
  {
   "cell_type": "code",
   "execution_count": 34,
   "id": "8c0fccfd",
   "metadata": {},
   "outputs": [
    {
     "data": {
      "text/plain": [
       "'n'"
      ]
     },
     "execution_count": 34,
     "metadata": {},
     "output_type": "execute_result"
    }
   ],
   "source": [
    "f[-1]"
   ]
  },
  {
   "cell_type": "code",
   "execution_count": 35,
   "id": "d35a3189",
   "metadata": {},
   "outputs": [
    {
     "data": {
      "text/plain": [
       "'c'"
      ]
     },
     "execution_count": 35,
     "metadata": {},
     "output_type": "execute_result"
    }
   ],
   "source": [
    "e[0]"
   ]
  },
  {
   "cell_type": "code",
   "execution_count": 36,
   "id": "d9ccec6b",
   "metadata": {},
   "outputs": [
    {
     "data": {
      "text/plain": [
       "'n'"
      ]
     },
     "execution_count": 36,
     "metadata": {},
     "output_type": "execute_result"
    }
   ],
   "source": [
    "e[-1]"
   ]
  },
  {
   "cell_type": "code",
   "execution_count": 37,
   "id": "28f71819",
   "metadata": {},
   "outputs": [
    {
     "ename": "IndexError",
     "evalue": "string index out of range",
     "output_type": "error",
     "traceback": [
      "\u001b[1;31m---------------------------------------------------------------------------\u001b[0m",
      "\u001b[1;31mIndexError\u001b[0m                                Traceback (most recent call last)",
      "\u001b[1;32m~\\AppData\\Local\\Temp/ipykernel_3220/1526156462.py\u001b[0m in \u001b[0;36m<module>\u001b[1;34m\u001b[0m\n\u001b[1;32m----> 1\u001b[1;33m \u001b[0md\u001b[0m\u001b[1;33m[\u001b[0m\u001b[1;36m100\u001b[0m\u001b[1;33m]\u001b[0m\u001b[1;33m\u001b[0m\u001b[1;33m\u001b[0m\u001b[0m\n\u001b[0m",
      "\u001b[1;31mIndexError\u001b[0m: string index out of range"
     ]
    }
   ],
   "source": [
    "d[100]"
   ]
  },
  {
   "cell_type": "code",
   "execution_count": 38,
   "id": "4c07e967",
   "metadata": {},
   "outputs": [],
   "source": [
    "g = \"how to give range search in string?\""
   ]
  },
  {
   "cell_type": "code",
   "execution_count": 39,
   "id": "6ef28071",
   "metadata": {},
   "outputs": [
    {
     "data": {
      "text/plain": [
       "'how to give range search in string?'"
      ]
     },
     "execution_count": 39,
     "metadata": {},
     "output_type": "execute_result"
    }
   ],
   "source": [
    "g"
   ]
  },
  {
   "cell_type": "code",
   "execution_count": 40,
   "id": "f8ae82e9",
   "metadata": {},
   "outputs": [
    {
     "data": {
      "text/plain": [
       "'exploring string variable in best possible way'"
      ]
     },
     "execution_count": 40,
     "metadata": {},
     "output_type": "execute_result"
    }
   ],
   "source": [
    "d"
   ]
  },
  {
   "cell_type": "code",
   "execution_count": 46,
   "id": "7dfc6c8b",
   "metadata": {},
   "outputs": [
    {
     "ename": "SyntaxError",
     "evalue": "invalid syntax (Temp/ipykernel_3220/622734483.py, line 1)",
     "output_type": "error",
     "traceback": [
      "\u001b[1;36m  File \u001b[1;32m\"C:\\Users\\abc\\AppData\\Local\\Temp/ipykernel_3220/622734483.py\"\u001b[1;36m, line \u001b[1;32m1\u001b[0m\n\u001b[1;33m    d=[0:20]\u001b[0m\n\u001b[1;37m        ^\u001b[0m\n\u001b[1;31mSyntaxError\u001b[0m\u001b[1;31m:\u001b[0m invalid syntax\n"
     ]
    }
   ],
   "source": [
    "d=[0:20]"
   ]
  },
  {
   "cell_type": "code",
   "execution_count": 42,
   "id": "032cf8e4",
   "metadata": {},
   "outputs": [
    {
     "data": {
      "text/plain": [
       "'e'"
      ]
     },
     "execution_count": 42,
     "metadata": {},
     "output_type": "execute_result"
    }
   ],
   "source": [
    "d[0]"
   ]
  },
  {
   "cell_type": "code",
   "execution_count": 43,
   "id": "6322c013",
   "metadata": {},
   "outputs": [
    {
     "data": {
      "text/plain": [
       "'explo'"
      ]
     },
     "execution_count": 43,
     "metadata": {},
     "output_type": "execute_result"
    }
   ],
   "source": [
    "d[0:5]"
   ]
  },
  {
   "cell_type": "code",
   "execution_count": 44,
   "id": "2fdc2853",
   "metadata": {},
   "outputs": [
    {
     "data": {
      "text/plain": [
       "'exploring strin'"
      ]
     },
     "execution_count": 44,
     "metadata": {},
     "output_type": "execute_result"
    }
   ],
   "source": [
    "d[0:15]"
   ]
  },
  {
   "cell_type": "code",
   "execution_count": 45,
   "id": "1d87afe7",
   "metadata": {},
   "outputs": [
    {
     "data": {
      "text/plain": [
       "'exploring string var'"
      ]
     },
     "execution_count": 45,
     "metadata": {},
     "output_type": "execute_result"
    }
   ],
   "source": [
    "d[0:20]"
   ]
  },
  {
   "cell_type": "code",
   "execution_count": 47,
   "id": "a5abcb35",
   "metadata": {},
   "outputs": [],
   "source": [
    "h = \"space is also counted as character and is indexed\""
   ]
  },
  {
   "cell_type": "code",
   "execution_count": 48,
   "id": "3e71d6eb",
   "metadata": {},
   "outputs": [
    {
     "data": {
      "text/plain": [
       "'space is also counted as character and is indexed'"
      ]
     },
     "execution_count": 48,
     "metadata": {},
     "output_type": "execute_result"
    }
   ],
   "source": [
    "h"
   ]
  },
  {
   "cell_type": "code",
   "execution_count": 49,
   "id": "75985cb6",
   "metadata": {},
   "outputs": [],
   "source": [
    "i = \"in d[0:20], character at 20th location is excluded\""
   ]
  },
  {
   "cell_type": "code",
   "execution_count": 50,
   "id": "19c372d7",
   "metadata": {},
   "outputs": [
    {
     "data": {
      "text/plain": [
       "'in d[0:20], character at 20th location is excluded'"
      ]
     },
     "execution_count": 50,
     "metadata": {},
     "output_type": "execute_result"
    }
   ],
   "source": [
    "i"
   ]
  },
  {
   "cell_type": "code",
   "execution_count": 51,
   "id": "df361e2b",
   "metadata": {},
   "outputs": [
    {
     "data": {
      "text/plain": [
       "'exploring string variable in best possible way'"
      ]
     },
     "execution_count": 51,
     "metadata": {},
     "output_type": "execute_result"
    }
   ],
   "source": [
    "d[0:300]"
   ]
  },
  {
   "cell_type": "code",
   "execution_count": 52,
   "id": "ebe5c041",
   "metadata": {},
   "outputs": [
    {
     "ename": "IndexError",
     "evalue": "string index out of range",
     "output_type": "error",
     "traceback": [
      "\u001b[1;31m---------------------------------------------------------------------------\u001b[0m",
      "\u001b[1;31mIndexError\u001b[0m                                Traceback (most recent call last)",
      "\u001b[1;32m~\\AppData\\Local\\Temp/ipykernel_3220/2521660314.py\u001b[0m in \u001b[0;36m<module>\u001b[1;34m\u001b[0m\n\u001b[1;32m----> 1\u001b[1;33m \u001b[0md\u001b[0m\u001b[1;33m[\u001b[0m\u001b[1;36m300\u001b[0m\u001b[1;33m]\u001b[0m\u001b[1;33m\u001b[0m\u001b[1;33m\u001b[0m\u001b[0m\n\u001b[0m",
      "\u001b[1;31mIndexError\u001b[0m: string index out of range"
     ]
    }
   ],
   "source": [
    "d[300]"
   ]
  },
  {
   "cell_type": "code",
   "execution_count": 53,
   "id": "7d7ea64a",
   "metadata": {},
   "outputs": [
    {
     "data": {
      "text/plain": [
       "'y'"
      ]
     },
     "execution_count": 53,
     "metadata": {},
     "output_type": "execute_result"
    }
   ],
   "source": [
    "d[-1]"
   ]
  },
  {
   "cell_type": "code",
   "execution_count": 54,
   "id": "05f8d7ae",
   "metadata": {},
   "outputs": [
    {
     "ename": "IndexError",
     "evalue": "string index out of range",
     "output_type": "error",
     "traceback": [
      "\u001b[1;31m---------------------------------------------------------------------------\u001b[0m",
      "\u001b[1;31mIndexError\u001b[0m                                Traceback (most recent call last)",
      "\u001b[1;32m~\\AppData\\Local\\Temp/ipykernel_3220/2001829692.py\u001b[0m in \u001b[0;36m<module>\u001b[1;34m\u001b[0m\n\u001b[1;32m----> 1\u001b[1;33m \u001b[0md\u001b[0m\u001b[1;33m[\u001b[0m\u001b[1;33m-\u001b[0m\u001b[1;36m300\u001b[0m\u001b[1;33m]\u001b[0m\u001b[1;33m\u001b[0m\u001b[1;33m\u001b[0m\u001b[0m\n\u001b[0m",
      "\u001b[1;31mIndexError\u001b[0m: string index out of range"
     ]
    }
   ],
   "source": [
    "d[-300]"
   ]
  },
  {
   "cell_type": "code",
   "execution_count": 55,
   "id": "be958eb1",
   "metadata": {},
   "outputs": [
    {
     "data": {
      "text/plain": [
       "''"
      ]
     },
     "execution_count": 55,
     "metadata": {},
     "output_type": "execute_result"
    }
   ],
   "source": [
    "d[-1:-300]"
   ]
  },
  {
   "cell_type": "code",
   "execution_count": 56,
   "id": "f58f2938",
   "metadata": {},
   "outputs": [
    {
     "data": {
      "text/plain": [
       "'exploring string variable in best possible wa'"
      ]
     },
     "execution_count": 56,
     "metadata": {},
     "output_type": "execute_result"
    }
   ],
   "source": [
    "d[-300:-1]"
   ]
  },
  {
   "cell_type": "code",
   "execution_count": 57,
   "id": "2910d3dd",
   "metadata": {},
   "outputs": [
    {
     "data": {
      "text/plain": [
       "''"
      ]
     },
     "execution_count": 57,
     "metadata": {},
     "output_type": "execute_result"
    }
   ],
   "source": [
    "d[-300:0]"
   ]
  },
  {
   "cell_type": "code",
   "execution_count": 58,
   "id": "9f5412f1",
   "metadata": {},
   "outputs": [
    {
     "data": {
      "text/plain": [
       "''"
      ]
     },
     "execution_count": 58,
     "metadata": {},
     "output_type": "execute_result"
    }
   ],
   "source": [
    "d[0:-300]"
   ]
  },
  {
   "cell_type": "code",
   "execution_count": 59,
   "id": "6d3dcad6",
   "metadata": {},
   "outputs": [
    {
     "data": {
      "text/plain": [
       "''"
      ]
     },
     "execution_count": 59,
     "metadata": {},
     "output_type": "execute_result"
    }
   ],
   "source": [
    "d[0:300:-1]"
   ]
  },
  {
   "cell_type": "code",
   "execution_count": 60,
   "id": "a659a96f",
   "metadata": {},
   "outputs": [
    {
     "data": {
      "text/plain": [
       "'e'"
      ]
     },
     "execution_count": 60,
     "metadata": {},
     "output_type": "execute_result"
    }
   ],
   "source": [
    "d[0:-300:-1]"
   ]
  },
  {
   "cell_type": "code",
   "execution_count": 61,
   "id": "aa8fa83c",
   "metadata": {},
   "outputs": [
    {
     "data": {
      "text/plain": [
       "'yaw elbissop tseb ni elbairav gnirts gnirolpxe'"
      ]
     },
     "execution_count": 61,
     "metadata": {},
     "output_type": "execute_result"
    }
   ],
   "source": [
    "d[-1:-300:-1]"
   ]
  },
  {
   "cell_type": "code",
   "execution_count": 62,
   "id": "4f46337d",
   "metadata": {},
   "outputs": [
    {
     "data": {
      "text/plain": [
       "''"
      ]
     },
     "execution_count": 62,
     "metadata": {},
     "output_type": "execute_result"
    }
   ],
   "source": [
    "d[-300:-1:-1]"
   ]
  },
  {
   "cell_type": "code",
   "execution_count": 63,
   "id": "fc18c94a",
   "metadata": {},
   "outputs": [
    {
     "data": {
      "text/plain": [
       "''"
      ]
     },
     "execution_count": 63,
     "metadata": {},
     "output_type": "execute_result"
    }
   ],
   "source": [
    "d[-1:-300:1]"
   ]
  },
  {
   "cell_type": "code",
   "execution_count": 64,
   "id": "9fe6b30b",
   "metadata": {},
   "outputs": [
    {
     "ename": "ValueError",
     "evalue": "slice step cannot be zero",
     "output_type": "error",
     "traceback": [
      "\u001b[1;31m---------------------------------------------------------------------------\u001b[0m",
      "\u001b[1;31mValueError\u001b[0m                                Traceback (most recent call last)",
      "\u001b[1;32m~\\AppData\\Local\\Temp/ipykernel_3220/3679718243.py\u001b[0m in \u001b[0;36m<module>\u001b[1;34m\u001b[0m\n\u001b[1;32m----> 1\u001b[1;33m \u001b[0md\u001b[0m\u001b[1;33m[\u001b[0m\u001b[1;33m-\u001b[0m\u001b[1;36m1\u001b[0m\u001b[1;33m:\u001b[0m\u001b[1;33m-\u001b[0m\u001b[1;36m300\u001b[0m\u001b[1;33m:\u001b[0m\u001b[1;36m0\u001b[0m\u001b[1;33m]\u001b[0m\u001b[1;33m\u001b[0m\u001b[1;33m\u001b[0m\u001b[0m\n\u001b[0m",
      "\u001b[1;31mValueError\u001b[0m: slice step cannot be zero"
     ]
    }
   ],
   "source": [
    "d[-1:-300:0]"
   ]
  },
  {
   "cell_type": "code",
   "execution_count": 65,
   "id": "6e56d450",
   "metadata": {},
   "outputs": [
    {
     "data": {
      "text/plain": [
       "'exploring string variable in best possible way'"
      ]
     },
     "execution_count": 65,
     "metadata": {},
     "output_type": "execute_result"
    }
   ],
   "source": [
    "d[::]"
   ]
  },
  {
   "cell_type": "code",
   "execution_count": 66,
   "id": "fddc1449",
   "metadata": {},
   "outputs": [
    {
     "data": {
      "text/plain": [
       "'exploring string variable in best possible way'"
      ]
     },
     "execution_count": 66,
     "metadata": {},
     "output_type": "execute_result"
    }
   ],
   "source": [
    "d"
   ]
  },
  {
   "cell_type": "code",
   "execution_count": 67,
   "id": "7b953af9",
   "metadata": {},
   "outputs": [
    {
     "data": {
      "text/plain": [
       "'exploring string variable in best possible way'"
      ]
     },
     "execution_count": 67,
     "metadata": {},
     "output_type": "execute_result"
    }
   ],
   "source": [
    "d[0:300:1]"
   ]
  },
  {
   "cell_type": "code",
   "execution_count": 68,
   "id": "4a1c5448",
   "metadata": {},
   "outputs": [
    {
     "data": {
      "text/plain": [
       "'yaw elbissop tseb ni elbairav gnirts gnirolpxe'"
      ]
     },
     "execution_count": 68,
     "metadata": {},
     "output_type": "execute_result"
    }
   ],
   "source": [
    "d[-1:-300:-1]"
   ]
  },
  {
   "cell_type": "code",
   "execution_count": 69,
   "id": "28e5ac57",
   "metadata": {},
   "outputs": [
    {
     "data": {
      "text/plain": [
       "'exploring string variable in best possible way'"
      ]
     },
     "execution_count": 69,
     "metadata": {},
     "output_type": "execute_result"
    }
   ],
   "source": [
    "d[::]"
   ]
  },
  {
   "cell_type": "code",
   "execution_count": 70,
   "id": "ff85ea1f",
   "metadata": {},
   "outputs": [
    {
     "data": {
      "text/plain": [
       "'exploring string variable in best possible way'"
      ]
     },
     "execution_count": 70,
     "metadata": {},
     "output_type": "execute_result"
    }
   ],
   "source": [
    "d[:300]"
   ]
  },
  {
   "cell_type": "code",
   "execution_count": 71,
   "id": "0b1361e1",
   "metadata": {},
   "outputs": [],
   "source": [
    "j = \"accessing data in a forward and backward direction is possible in string\""
   ]
  },
  {
   "cell_type": "code",
   "execution_count": 72,
   "id": "665120e4",
   "metadata": {},
   "outputs": [
    {
     "data": {
      "text/plain": [
       "'accessing data in a forward and backward direction is possible in string'"
      ]
     },
     "execution_count": 72,
     "metadata": {},
     "output_type": "execute_result"
    }
   ],
   "source": [
    "j"
   ]
  },
  {
   "cell_type": "code",
   "execution_count": 73,
   "id": "4756eb10",
   "metadata": {},
   "outputs": [
    {
     "data": {
      "text/plain": [
       "'exploring string variable in best possible way'"
      ]
     },
     "execution_count": 73,
     "metadata": {},
     "output_type": "execute_result"
    }
   ],
   "source": [
    "d"
   ]
  },
  {
   "cell_type": "code",
   "execution_count": 74,
   "id": "dd0f059e",
   "metadata": {},
   "outputs": [
    {
     "data": {
      "text/plain": [
       "'exploring string variable in best possible way'"
      ]
     },
     "execution_count": 74,
     "metadata": {},
     "output_type": "execute_result"
    }
   ],
   "source": [
    "d[::]"
   ]
  },
  {
   "cell_type": "code",
   "execution_count": 75,
   "id": "c3507081",
   "metadata": {},
   "outputs": [
    {
     "data": {
      "text/plain": [
       "'exploring string variable in best possible way'"
      ]
     },
     "execution_count": 75,
     "metadata": {},
     "output_type": "execute_result"
    }
   ],
   "source": [
    "d[0:300:1]"
   ]
  },
  {
   "cell_type": "code",
   "execution_count": 76,
   "id": "2778af88",
   "metadata": {},
   "outputs": [
    {
     "data": {
      "text/plain": [
       "'yaw elbissop tseb ni elbairav gnirts gnirolpxe'"
      ]
     },
     "execution_count": 76,
     "metadata": {},
     "output_type": "execute_result"
    }
   ],
   "source": [
    "d[-1:-300:-1]"
   ]
  },
  {
   "cell_type": "code",
   "execution_count": 77,
   "id": "ac7c46a7",
   "metadata": {},
   "outputs": [
    {
     "data": {
      "text/plain": [
       "' way'"
      ]
     },
     "execution_count": 77,
     "metadata": {},
     "output_type": "execute_result"
    }
   ],
   "source": [
    "d[-4::]"
   ]
  },
  {
   "cell_type": "code",
   "execution_count": 78,
   "id": "61206562",
   "metadata": {},
   "outputs": [
    {
     "data": {
      "text/plain": [
       "' way'"
      ]
     },
     "execution_count": 78,
     "metadata": {},
     "output_type": "execute_result"
    }
   ],
   "source": [
    "d[-4:]"
   ]
  },
  {
   "cell_type": "code",
   "execution_count": 79,
   "id": "1b6941bc",
   "metadata": {},
   "outputs": [
    {
     "data": {
      "text/plain": [
       "'yaw elbissop tseb ni elbairav gnirts gnirolpxe'"
      ]
     },
     "execution_count": 79,
     "metadata": {},
     "output_type": "execute_result"
    }
   ],
   "source": [
    "d[::-1]"
   ]
  },
  {
   "cell_type": "code",
   "execution_count": 80,
   "id": "e21a4311",
   "metadata": {},
   "outputs": [
    {
     "data": {
      "text/plain": [
       "'exploring string variable in best possible way'"
      ]
     },
     "execution_count": 80,
     "metadata": {},
     "output_type": "execute_result"
    }
   ],
   "source": [
    "d[::1]"
   ]
  },
  {
   "cell_type": "code",
   "execution_count": 81,
   "id": "7d859608",
   "metadata": {},
   "outputs": [
    {
     "data": {
      "text/plain": [
       "'exploring string variable in best possible way'"
      ]
     },
     "execution_count": 81,
     "metadata": {},
     "output_type": "execute_result"
    }
   ],
   "source": [
    "d[::]"
   ]
  },
  {
   "cell_type": "code",
   "execution_count": 82,
   "id": "e7113ce6",
   "metadata": {},
   "outputs": [
    {
     "data": {
      "text/plain": [
       "'yaw elbissop tseb ni elbairav gnirts gnirolpxe'"
      ]
     },
     "execution_count": 82,
     "metadata": {},
     "output_type": "execute_result"
    }
   ],
   "source": [
    "d[-1::-1]"
   ]
  },
  {
   "cell_type": "code",
   "execution_count": 83,
   "id": "2661a45a",
   "metadata": {},
   "outputs": [
    {
     "data": {
      "text/plain": [
       "'exploring string variable in best possible way'"
      ]
     },
     "execution_count": 83,
     "metadata": {},
     "output_type": "execute_result"
    }
   ],
   "source": [
    "d"
   ]
  },
  {
   "cell_type": "code",
   "execution_count": 84,
   "id": "8dfc4778",
   "metadata": {},
   "outputs": [],
   "source": [
    "k = \"how to reverse the entire string?\""
   ]
  },
  {
   "cell_type": "code",
   "execution_count": 85,
   "id": "6a187c4c",
   "metadata": {},
   "outputs": [
    {
     "data": {
      "text/plain": [
       "'how to reverse the entire string?'"
      ]
     },
     "execution_count": 85,
     "metadata": {},
     "output_type": "execute_result"
    }
   ],
   "source": [
    "k"
   ]
  },
  {
   "cell_type": "code",
   "execution_count": 86,
   "id": "87e91412",
   "metadata": {},
   "outputs": [
    {
     "data": {
      "text/plain": [
       "'yaw elbissop tseb ni elbairav gnirts gnirolpxe'"
      ]
     },
     "execution_count": 86,
     "metadata": {},
     "output_type": "execute_result"
    }
   ],
   "source": [
    "d[::-1]"
   ]
  },
  {
   "cell_type": "code",
   "execution_count": 87,
   "id": "37869d55",
   "metadata": {},
   "outputs": [],
   "source": [
    "l = \"kumar\""
   ]
  },
  {
   "cell_type": "code",
   "execution_count": 88,
   "id": "d17b4e4d",
   "metadata": {},
   "outputs": [
    {
     "data": {
      "text/plain": [
       "'kumar'"
      ]
     },
     "execution_count": 88,
     "metadata": {},
     "output_type": "execute_result"
    }
   ],
   "source": [
    "l"
   ]
  },
  {
   "cell_type": "code",
   "execution_count": 89,
   "id": "a2b2f1f5",
   "metadata": {},
   "outputs": [
    {
     "data": {
      "text/plain": [
       "'kumar'"
      ]
     },
     "execution_count": 89,
     "metadata": {},
     "output_type": "execute_result"
    }
   ],
   "source": [
    "l[0:5:1]"
   ]
  },
  {
   "cell_type": "code",
   "execution_count": 90,
   "id": "43da1b73",
   "metadata": {},
   "outputs": [
    {
     "data": {
      "text/plain": [
       "'ramu'"
      ]
     },
     "execution_count": 90,
     "metadata": {},
     "output_type": "execute_result"
    }
   ],
   "source": [
    "l[-1:-5:-1]"
   ]
  },
  {
   "cell_type": "code",
   "execution_count": 91,
   "id": "e8683bc5",
   "metadata": {},
   "outputs": [
    {
     "data": {
      "text/plain": [
       "'amuk'"
      ]
     },
     "execution_count": 91,
     "metadata": {},
     "output_type": "execute_result"
    }
   ],
   "source": [
    "l[-2:-6:-1]"
   ]
  },
  {
   "cell_type": "code",
   "execution_count": 92,
   "id": "89077f43",
   "metadata": {},
   "outputs": [
    {
     "data": {
      "text/plain": [
       "'ramuk'"
      ]
     },
     "execution_count": 92,
     "metadata": {},
     "output_type": "execute_result"
    }
   ],
   "source": [
    "l[-1:-6:-1]"
   ]
  },
  {
   "cell_type": "code",
   "execution_count": 93,
   "id": "7f13a7db",
   "metadata": {},
   "outputs": [
    {
     "data": {
      "text/plain": [
       "'amuk'"
      ]
     },
     "execution_count": 93,
     "metadata": {},
     "output_type": "execute_result"
    }
   ],
   "source": [
    "l[-2:-6:-1]"
   ]
  },
  {
   "cell_type": "code",
   "execution_count": 94,
   "id": "3f60456b",
   "metadata": {},
   "outputs": [
    {
     "data": {
      "text/plain": [
       "'muk'"
      ]
     },
     "execution_count": 94,
     "metadata": {},
     "output_type": "execute_result"
    }
   ],
   "source": [
    "l[-3:-6:-1]"
   ]
  },
  {
   "cell_type": "code",
   "execution_count": 95,
   "id": "11ffcb73",
   "metadata": {},
   "outputs": [
    {
     "data": {
      "text/plain": [
       "'uk'"
      ]
     },
     "execution_count": 95,
     "metadata": {},
     "output_type": "execute_result"
    }
   ],
   "source": [
    "l[-4:-6:-1]"
   ]
  },
  {
   "cell_type": "code",
   "execution_count": 96,
   "id": "7890a4fe",
   "metadata": {},
   "outputs": [
    {
     "data": {
      "text/plain": [
       "'k'"
      ]
     },
     "execution_count": 96,
     "metadata": {},
     "output_type": "execute_result"
    }
   ],
   "source": [
    "l[-5:-6:-1]"
   ]
  },
  {
   "cell_type": "code",
   "execution_count": 97,
   "id": "93a868a0",
   "metadata": {},
   "outputs": [
    {
     "data": {
      "text/plain": [
       "''"
      ]
     },
     "execution_count": 97,
     "metadata": {},
     "output_type": "execute_result"
    }
   ],
   "source": [
    "l[-6:-6:-1]"
   ]
  },
  {
   "cell_type": "code",
   "execution_count": 98,
   "id": "6a88de4e",
   "metadata": {},
   "outputs": [
    {
     "data": {
      "text/plain": [
       "''"
      ]
     },
     "execution_count": 98,
     "metadata": {},
     "output_type": "execute_result"
    }
   ],
   "source": [
    "l[-5:6:-1]"
   ]
  },
  {
   "cell_type": "code",
   "execution_count": 99,
   "id": "5b513a86",
   "metadata": {},
   "outputs": [
    {
     "data": {
      "text/plain": [
       "'kumar'"
      ]
     },
     "execution_count": 99,
     "metadata": {},
     "output_type": "execute_result"
    }
   ],
   "source": [
    "l[-5:6:1]"
   ]
  },
  {
   "cell_type": "code",
   "execution_count": 100,
   "id": "e94d992f",
   "metadata": {},
   "outputs": [
    {
     "data": {
      "text/plain": [
       "'kumar'"
      ]
     },
     "execution_count": 100,
     "metadata": {},
     "output_type": "execute_result"
    }
   ],
   "source": [
    "l[-5:5:1]"
   ]
  },
  {
   "cell_type": "code",
   "execution_count": 101,
   "id": "43a1bb14",
   "metadata": {},
   "outputs": [
    {
     "data": {
      "text/plain": [
       "''"
      ]
     },
     "execution_count": 101,
     "metadata": {},
     "output_type": "execute_result"
    }
   ],
   "source": [
    "l[5:6:1]"
   ]
  },
  {
   "cell_type": "code",
   "execution_count": 102,
   "id": "f1f44fba",
   "metadata": {},
   "outputs": [
    {
     "data": {
      "text/plain": [
       "'r'"
      ]
     },
     "execution_count": 102,
     "metadata": {},
     "output_type": "execute_result"
    }
   ],
   "source": [
    "l[4:5:1]"
   ]
  },
  {
   "cell_type": "code",
   "execution_count": 103,
   "id": "418c30da",
   "metadata": {},
   "outputs": [
    {
     "data": {
      "text/plain": [
       "'kumar'"
      ]
     },
     "execution_count": 103,
     "metadata": {},
     "output_type": "execute_result"
    }
   ],
   "source": [
    "l[-5:5]"
   ]
  },
  {
   "cell_type": "code",
   "execution_count": 104,
   "id": "8e8c5b3b",
   "metadata": {},
   "outputs": [],
   "source": [
    "m = \"i am working in ineuron\""
   ]
  },
  {
   "cell_type": "code",
   "execution_count": 105,
   "id": "57155e80",
   "metadata": {},
   "outputs": [
    {
     "data": {
      "text/plain": [
       "'i am working in ineuron'"
      ]
     },
     "execution_count": 105,
     "metadata": {},
     "output_type": "execute_result"
    }
   ],
   "source": [
    "m"
   ]
  },
  {
   "cell_type": "code",
   "execution_count": 106,
   "id": "65cb097d",
   "metadata": {},
   "outputs": [
    {
     "data": {
      "text/plain": [
       "''"
      ]
     },
     "execution_count": 106,
     "metadata": {},
     "output_type": "execute_result"
    }
   ],
   "source": [
    "m[-5:5]"
   ]
  },
  {
   "cell_type": "code",
   "execution_count": 107,
   "id": "02c52513",
   "metadata": {},
   "outputs": [
    {
     "data": {
      "text/plain": [
       "'eni ni gnikro'"
      ]
     },
     "execution_count": 107,
     "metadata": {},
     "output_type": "execute_result"
    }
   ],
   "source": [
    "m[-5:5:-1]"
   ]
  },
  {
   "cell_type": "code",
   "execution_count": 108,
   "id": "407488ee",
   "metadata": {},
   "outputs": [
    {
     "data": {
      "text/plain": [
       "'n'"
      ]
     },
     "execution_count": 108,
     "metadata": {},
     "output_type": "execute_result"
    }
   ],
   "source": [
    "m[22]"
   ]
  },
  {
   "cell_type": "code",
   "execution_count": 109,
   "id": "906c8707",
   "metadata": {},
   "outputs": [
    {
     "data": {
      "text/plain": [
       "'euron'"
      ]
     },
     "execution_count": 109,
     "metadata": {},
     "output_type": "execute_result"
    }
   ],
   "source": [
    "m[-5:23:1]"
   ]
  },
  {
   "cell_type": "code",
   "execution_count": 110,
   "id": "bbffe392",
   "metadata": {},
   "outputs": [
    {
     "data": {
      "text/plain": [
       "'euron'"
      ]
     },
     "execution_count": 110,
     "metadata": {},
     "output_type": "execute_result"
    }
   ],
   "source": [
    "m[-5::1]"
   ]
  },
  {
   "cell_type": "code",
   "execution_count": 111,
   "id": "2fb87cb6",
   "metadata": {},
   "outputs": [
    {
     "data": {
      "text/plain": [
       "'imoi  eo'"
      ]
     },
     "execution_count": 111,
     "metadata": {},
     "output_type": "execute_result"
    }
   ],
   "source": [
    "m[0:100:3]"
   ]
  },
  {
   "cell_type": "code",
   "execution_count": 112,
   "id": "02ebdb2c",
   "metadata": {},
   "outputs": [
    {
     "data": {
      "text/plain": [
       "'i am working in ineuron'"
      ]
     },
     "execution_count": 112,
     "metadata": {},
     "output_type": "execute_result"
    }
   ],
   "source": [
    "m"
   ]
  },
  {
   "cell_type": "code",
   "execution_count": 113,
   "id": "30f5b10a",
   "metadata": {},
   "outputs": [
    {
     "data": {
      "text/plain": [
       "'kumar'"
      ]
     },
     "execution_count": 113,
     "metadata": {},
     "output_type": "execute_result"
    }
   ],
   "source": [
    "l"
   ]
  },
  {
   "cell_type": "code",
   "execution_count": 114,
   "id": "dda653f6",
   "metadata": {},
   "outputs": [
    {
     "data": {
      "text/plain": [
       "'kumarkumarkumar'"
      ]
     },
     "execution_count": 114,
     "metadata": {},
     "output_type": "execute_result"
    }
   ],
   "source": [
    "l*3"
   ]
  },
  {
   "cell_type": "code",
   "execution_count": 115,
   "id": "c834eff8",
   "metadata": {},
   "outputs": [
    {
     "ename": "NameError",
     "evalue": "name 'kumar' is not defined",
     "output_type": "error",
     "traceback": [
      "\u001b[1;31m---------------------------------------------------------------------------\u001b[0m",
      "\u001b[1;31mNameError\u001b[0m                                 Traceback (most recent call last)",
      "\u001b[1;32m~\\AppData\\Local\\Temp/ipykernel_3220/2817005285.py\u001b[0m in \u001b[0;36m<module>\u001b[1;34m\u001b[0m\n\u001b[1;32m----> 1\u001b[1;33m \u001b[0mkumar\u001b[0m\u001b[1;33m*\u001b[0m\u001b[1;36m3\u001b[0m\u001b[1;33m\u001b[0m\u001b[1;33m\u001b[0m\u001b[0m\n\u001b[0m",
      "\u001b[1;31mNameError\u001b[0m: name 'kumar' is not defined"
     ]
    }
   ],
   "source": [
    "kumar*3"
   ]
  },
  {
   "cell_type": "code",
   "execution_count": 116,
   "id": "12d83ded",
   "metadata": {},
   "outputs": [
    {
     "data": {
      "text/plain": [
       "'kumarkumarkumar'"
      ]
     },
     "execution_count": 116,
     "metadata": {},
     "output_type": "execute_result"
    }
   ],
   "source": [
    "\"kumar\"*3"
   ]
  },
  {
   "cell_type": "code",
   "execution_count": 117,
   "id": "6bb41a29",
   "metadata": {},
   "outputs": [
    {
     "data": {
      "text/plain": [
       "'kumarkumar'"
      ]
     },
     "execution_count": 117,
     "metadata": {},
     "output_type": "execute_result"
    }
   ],
   "source": [
    "\"kumar\"+\"kumar\""
   ]
  },
  {
   "cell_type": "code",
   "execution_count": 118,
   "id": "47bd8868",
   "metadata": {},
   "outputs": [
    {
     "data": {
      "text/plain": [
       "'amitkumar'"
      ]
     },
     "execution_count": 118,
     "metadata": {},
     "output_type": "execute_result"
    }
   ],
   "source": [
    "\"amit\"+\"\"+\"kumar\""
   ]
  },
  {
   "cell_type": "code",
   "execution_count": 119,
   "id": "14f25c07",
   "metadata": {},
   "outputs": [
    {
     "data": {
      "text/plain": [
       "'amit kumar'"
      ]
     },
     "execution_count": 119,
     "metadata": {},
     "output_type": "execute_result"
    }
   ],
   "source": [
    "\"amit \"+\"kumar\""
   ]
  },
  {
   "cell_type": "code",
   "execution_count": 120,
   "id": "b1f15e5d",
   "metadata": {},
   "outputs": [
    {
     "ename": "TypeError",
     "evalue": "can't multiply sequence by non-int of type 'str'",
     "output_type": "error",
     "traceback": [
      "\u001b[1;31m---------------------------------------------------------------------------\u001b[0m",
      "\u001b[1;31mTypeError\u001b[0m                                 Traceback (most recent call last)",
      "\u001b[1;32m~\\AppData\\Local\\Temp/ipykernel_3220/3084770890.py\u001b[0m in \u001b[0;36m<module>\u001b[1;34m\u001b[0m\n\u001b[1;32m----> 1\u001b[1;33m \u001b[1;34m\"amit \"\u001b[0m\u001b[1;33m*\u001b[0m\u001b[1;34m\"kumar\"\u001b[0m\u001b[1;33m\u001b[0m\u001b[1;33m\u001b[0m\u001b[0m\n\u001b[0m",
      "\u001b[1;31mTypeError\u001b[0m: can't multiply sequence by non-int of type 'str'"
     ]
    }
   ],
   "source": [
    "\"amit \"*\"kumar\""
   ]
  },
  {
   "cell_type": "code",
   "execution_count": 121,
   "id": "3a744e0c",
   "metadata": {},
   "outputs": [
    {
     "data": {
      "text/plain": [
       "'amitamit'"
      ]
     },
     "execution_count": 121,
     "metadata": {},
     "output_type": "execute_result"
    }
   ],
   "source": [
    "\"amit\"*2"
   ]
  },
  {
   "cell_type": "code",
   "execution_count": 122,
   "id": "1be002a4",
   "metadata": {},
   "outputs": [
    {
     "ename": "TypeError",
     "evalue": "can't multiply sequence by non-int of type 'str'",
     "output_type": "error",
     "traceback": [
      "\u001b[1;31m---------------------------------------------------------------------------\u001b[0m",
      "\u001b[1;31mTypeError\u001b[0m                                 Traceback (most recent call last)",
      "\u001b[1;32m~\\AppData\\Local\\Temp/ipykernel_3220/1825049656.py\u001b[0m in \u001b[0;36m<module>\u001b[1;34m\u001b[0m\n\u001b[1;32m----> 1\u001b[1;33m \u001b[1;34m\"amit\"\u001b[0m\u001b[1;33m*\u001b[0m\u001b[1;34m\"true\"\u001b[0m\u001b[1;33m\u001b[0m\u001b[1;33m\u001b[0m\u001b[0m\n\u001b[0m",
      "\u001b[1;31mTypeError\u001b[0m: can't multiply sequence by non-int of type 'str'"
     ]
    }
   ],
   "source": [
    "\"amit\"*\"true\""
   ]
  },
  {
   "cell_type": "code",
   "execution_count": 123,
   "id": "c94930a9",
   "metadata": {},
   "outputs": [
    {
     "data": {
      "text/plain": [
       "'amit'"
      ]
     },
     "execution_count": 123,
     "metadata": {},
     "output_type": "execute_result"
    }
   ],
   "source": [
    "\"amit\"*int(True)"
   ]
  },
  {
   "cell_type": "code",
   "execution_count": 124,
   "id": "0711edad",
   "metadata": {},
   "outputs": [
    {
     "data": {
      "text/plain": [
       "'amit'"
      ]
     },
     "execution_count": 124,
     "metadata": {},
     "output_type": "execute_result"
    }
   ],
   "source": [
    "\"amit\"*1"
   ]
  },
  {
   "cell_type": "code",
   "execution_count": 125,
   "id": "62460e2a",
   "metadata": {},
   "outputs": [],
   "source": [
    "n = \"string * string will give error\""
   ]
  },
  {
   "cell_type": "code",
   "execution_count": 126,
   "id": "edf149b6",
   "metadata": {},
   "outputs": [
    {
     "data": {
      "text/plain": [
       "'string * string will give error'"
      ]
     },
     "execution_count": 126,
     "metadata": {},
     "output_type": "execute_result"
    }
   ],
   "source": [
    "n"
   ]
  },
  {
   "cell_type": "code",
   "execution_count": 127,
   "id": "28090609",
   "metadata": {},
   "outputs": [],
   "source": [
    "o = \"string * number (integer) will work\""
   ]
  },
  {
   "cell_type": "code",
   "execution_count": 128,
   "id": "8b98b1ea",
   "metadata": {},
   "outputs": [
    {
     "data": {
      "text/plain": [
       "'string * number (integer) will work'"
      ]
     },
     "execution_count": 128,
     "metadata": {},
     "output_type": "execute_result"
    }
   ],
   "source": [
    "o"
   ]
  },
  {
   "cell_type": "code",
   "execution_count": 129,
   "id": "cfe5e30c",
   "metadata": {},
   "outputs": [],
   "source": [
    "p = \"string * string, string-string, string/string will not work. only string+string will work\""
   ]
  },
  {
   "cell_type": "code",
   "execution_count": 130,
   "id": "bea0a8c3",
   "metadata": {},
   "outputs": [
    {
     "data": {
      "text/plain": [
       "'string * string, string-string, string/string will not work. only string+string will work'"
      ]
     },
     "execution_count": 130,
     "metadata": {},
     "output_type": "execute_result"
    }
   ],
   "source": [
    "p"
   ]
  },
  {
   "cell_type": "code",
   "execution_count": 131,
   "id": "29cf84b3",
   "metadata": {},
   "outputs": [
    {
     "data": {
      "text/plain": [
       "5"
      ]
     },
     "execution_count": 131,
     "metadata": {},
     "output_type": "execute_result"
    }
   ],
   "source": [
    "len(l)"
   ]
  },
  {
   "cell_type": "code",
   "execution_count": 132,
   "id": "f400fbfd",
   "metadata": {},
   "outputs": [
    {
     "data": {
      "text/plain": [
       "'kumar'"
      ]
     },
     "execution_count": 132,
     "metadata": {},
     "output_type": "execute_result"
    }
   ],
   "source": [
    "l"
   ]
  },
  {
   "cell_type": "code",
   "execution_count": 133,
   "id": "b648d1a5",
   "metadata": {},
   "outputs": [
    {
     "data": {
      "text/plain": [
       "3"
      ]
     },
     "execution_count": 133,
     "metadata": {},
     "output_type": "execute_result"
    }
   ],
   "source": [
    "l.find(\"a\")"
   ]
  },
  {
   "cell_type": "code",
   "execution_count": 134,
   "id": "6639c45c",
   "metadata": {},
   "outputs": [],
   "source": [
    "a = \"I am working with ineuron\""
   ]
  },
  {
   "cell_type": "code",
   "execution_count": 135,
   "id": "16fc01c8",
   "metadata": {},
   "outputs": [
    {
     "data": {
      "text/plain": [
       "2"
      ]
     },
     "execution_count": 135,
     "metadata": {},
     "output_type": "execute_result"
    }
   ],
   "source": [
    "a.find(\"a\")"
   ]
  },
  {
   "cell_type": "code",
   "execution_count": 136,
   "id": "a37f8699",
   "metadata": {},
   "outputs": [
    {
     "data": {
      "text/plain": [
       "9"
      ]
     },
     "execution_count": 136,
     "metadata": {},
     "output_type": "execute_result"
    }
   ],
   "source": [
    "a.find(\"i\")"
   ]
  },
  {
   "cell_type": "code",
   "execution_count": 137,
   "id": "fb51c8d7",
   "metadata": {},
   "outputs": [],
   "source": [
    "q = \"if there are multiple i's it is going to define lowest index of i\""
   ]
  },
  {
   "cell_type": "code",
   "execution_count": 138,
   "id": "6336ea28",
   "metadata": {},
   "outputs": [
    {
     "data": {
      "text/plain": [
       "\"if there are multiple i's it is going to define lowest index of i\""
      ]
     },
     "execution_count": 138,
     "metadata": {},
     "output_type": "execute_result"
    }
   ],
   "source": [
    "q"
   ]
  },
  {
   "cell_type": "code",
   "execution_count": 139,
   "id": "62d17752",
   "metadata": {},
   "outputs": [
    {
     "data": {
      "text/plain": [
       "-1"
      ]
     },
     "execution_count": 139,
     "metadata": {},
     "output_type": "execute_result"
    }
   ],
   "source": [
    "a.find(\"ia\")"
   ]
  },
  {
   "cell_type": "code",
   "execution_count": 140,
   "id": "a49496d5",
   "metadata": {},
   "outputs": [],
   "source": [
    "r = \"since ia are not found it gives the index as -1\""
   ]
  },
  {
   "cell_type": "code",
   "execution_count": 141,
   "id": "8822a479",
   "metadata": {},
   "outputs": [
    {
     "data": {
      "text/plain": [
       "'since ia are not found it gives the index as -1'"
      ]
     },
     "execution_count": 141,
     "metadata": {},
     "output_type": "execute_result"
    }
   ],
   "source": [
    "r"
   ]
  },
  {
   "cell_type": "code",
   "execution_count": 142,
   "id": "a0b2be79",
   "metadata": {},
   "outputs": [
    {
     "data": {
      "text/plain": [
       "3"
      ]
     },
     "execution_count": 142,
     "metadata": {},
     "output_type": "execute_result"
    }
   ],
   "source": [
    "a.count(\"i\")"
   ]
  },
  {
   "cell_type": "code",
   "execution_count": 143,
   "id": "e03ecb80",
   "metadata": {},
   "outputs": [
    {
     "data": {
      "text/plain": [
       "int"
      ]
     },
     "execution_count": 143,
     "metadata": {},
     "output_type": "execute_result"
    }
   ],
   "source": [
    "type(a.count(\"i\"))"
   ]
  },
  {
   "cell_type": "code",
   "execution_count": 144,
   "id": "727046d2",
   "metadata": {},
   "outputs": [
    {
     "data": {
      "text/plain": [
       "['I', 'am', 'working', 'with', 'ineuron']"
      ]
     },
     "execution_count": 144,
     "metadata": {},
     "output_type": "execute_result"
    }
   ],
   "source": [
    "a.split()"
   ]
  },
  {
   "cell_type": "code",
   "execution_count": 145,
   "id": "69599cc8",
   "metadata": {},
   "outputs": [
    {
     "data": {
      "text/plain": [
       "list"
      ]
     },
     "execution_count": 145,
     "metadata": {},
     "output_type": "execute_result"
    }
   ],
   "source": [
    "type(a.split())"
   ]
  },
  {
   "cell_type": "code",
   "execution_count": 146,
   "id": "02cf58e6",
   "metadata": {},
   "outputs": [],
   "source": [
    "z = a.split()"
   ]
  },
  {
   "cell_type": "code",
   "execution_count": 147,
   "id": "921f179b",
   "metadata": {},
   "outputs": [
    {
     "data": {
      "text/plain": [
       "['I', 'am', 'working', 'with', 'ineuron']"
      ]
     },
     "execution_count": 147,
     "metadata": {},
     "output_type": "execute_result"
    }
   ],
   "source": [
    "z"
   ]
  },
  {
   "cell_type": "code",
   "execution_count": 148,
   "id": "330ece03",
   "metadata": {},
   "outputs": [
    {
     "data": {
      "text/plain": [
       "['I am ', 'orking ', 'ith ineuron']"
      ]
     },
     "execution_count": 148,
     "metadata": {},
     "output_type": "execute_result"
    }
   ],
   "source": [
    "a.split(\"w\")"
   ]
  },
  {
   "cell_type": "code",
   "execution_count": 149,
   "id": "9b08de58",
   "metadata": {},
   "outputs": [
    {
     "data": {
      "text/plain": [
       "'I AM WORKING WITH INEURON'"
      ]
     },
     "execution_count": 149,
     "metadata": {},
     "output_type": "execute_result"
    }
   ],
   "source": [
    "a.upper()"
   ]
  },
  {
   "cell_type": "code",
   "execution_count": 150,
   "id": "e6dceff4",
   "metadata": {},
   "outputs": [
    {
     "data": {
      "text/plain": [
       "'i AM WORKING WITH INEURON'"
      ]
     },
     "execution_count": 150,
     "metadata": {},
     "output_type": "execute_result"
    }
   ],
   "source": [
    "a.swapcase()"
   ]
  },
  {
   "cell_type": "code",
   "execution_count": 151,
   "id": "67c5945a",
   "metadata": {},
   "outputs": [
    {
     "data": {
      "text/plain": [
       "'I Am Working With Ineuron'"
      ]
     },
     "execution_count": 151,
     "metadata": {},
     "output_type": "execute_result"
    }
   ],
   "source": [
    "a.title()"
   ]
  },
  {
   "cell_type": "code",
   "execution_count": 152,
   "id": "71e5505f",
   "metadata": {},
   "outputs": [],
   "source": [
    "a = \"garima\""
   ]
  },
  {
   "cell_type": "code",
   "execution_count": 153,
   "id": "d9af3386",
   "metadata": {},
   "outputs": [
    {
     "data": {
      "text/plain": [
       "'garima'"
      ]
     },
     "execution_count": 153,
     "metadata": {},
     "output_type": "execute_result"
    }
   ],
   "source": [
    "a"
   ]
  },
  {
   "cell_type": "code",
   "execution_count": 154,
   "id": "977f33cb",
   "metadata": {},
   "outputs": [
    {
     "data": {
      "text/plain": [
       "'Garima'"
      ]
     },
     "execution_count": 154,
     "metadata": {},
     "output_type": "execute_result"
    }
   ],
   "source": [
    "a.title()"
   ]
  },
  {
   "cell_type": "code",
   "execution_count": 155,
   "id": "e5ffe63b",
   "metadata": {},
   "outputs": [
    {
     "data": {
      "text/plain": [
       "'Garima'"
      ]
     },
     "execution_count": 155,
     "metadata": {},
     "output_type": "execute_result"
    }
   ],
   "source": [
    "a.capitalize()"
   ]
  },
  {
   "cell_type": "code",
   "execution_count": 158,
   "id": "77d9c39b",
   "metadata": {},
   "outputs": [],
   "source": [
    "b = \"title and capitalize will give same type of answer\""
   ]
  },
  {
   "cell_type": "code",
   "execution_count": 159,
   "id": "bfa368ce",
   "metadata": {},
   "outputs": [
    {
     "data": {
      "text/plain": [
       "'title and capitalize will give same type of answer'"
      ]
     },
     "execution_count": 159,
     "metadata": {},
     "output_type": "execute_result"
    }
   ],
   "source": [
    "b"
   ]
  },
  {
   "cell_type": "code",
   "execution_count": null,
   "id": "b2be6e6a",
   "metadata": {},
   "outputs": [],
   "source": [
    "a = \"garima\"\n",
    "b = \"THAKUR\""
   ]
  },
  {
   "cell_type": "code",
   "execution_count": 160,
   "id": "31f5546e",
   "metadata": {},
   "outputs": [
    {
     "data": {
      "text/plain": [
       "'tgarimaigarimatgarimalgarimaegarima garimaagarimangarimadgarima garimacgarimaagarimapgarimaigarimatgarimaagarimalgarimaigarimazgarimaegarima garimawgarimaigarimalgarimalgarima garimaggarimaigarimavgarimaegarima garimasgarimaagarimamgarimaegarima garimatgarimaygarimapgarimaegarima garimaogarimafgarima garimaagarimangarimasgarimawgarimaegarimar'"
      ]
     },
     "execution_count": 160,
     "metadata": {},
     "output_type": "execute_result"
    }
   ],
   "source": [
    "a.join(b)"
   ]
  },
  {
   "cell_type": "code",
   "execution_count": 161,
   "id": "6c08731f",
   "metadata": {},
   "outputs": [
    {
     "data": {
      "text/plain": [
       "'garima'"
      ]
     },
     "execution_count": 161,
     "metadata": {},
     "output_type": "execute_result"
    }
   ],
   "source": [
    "a"
   ]
  },
  {
   "cell_type": "code",
   "execution_count": 162,
   "id": "f89e75ab",
   "metadata": {},
   "outputs": [
    {
     "data": {
      "text/plain": [
       "'title and capitalize will give same type of answer'"
      ]
     },
     "execution_count": 162,
     "metadata": {},
     "output_type": "execute_result"
    }
   ],
   "source": [
    "b"
   ]
  },
  {
   "cell_type": "code",
   "execution_count": 163,
   "id": "84412339",
   "metadata": {},
   "outputs": [],
   "source": [
    "b = \"THAKUR\""
   ]
  },
  {
   "cell_type": "code",
   "execution_count": 164,
   "id": "2a47eae4",
   "metadata": {},
   "outputs": [
    {
     "data": {
      "text/plain": [
       "'THAKUR'"
      ]
     },
     "execution_count": 164,
     "metadata": {},
     "output_type": "execute_result"
    }
   ],
   "source": [
    "b"
   ]
  },
  {
   "cell_type": "code",
   "execution_count": 165,
   "id": "dae3aa54",
   "metadata": {},
   "outputs": [
    {
     "data": {
      "text/plain": [
       "'garima'"
      ]
     },
     "execution_count": 165,
     "metadata": {},
     "output_type": "execute_result"
    }
   ],
   "source": [
    "a"
   ]
  },
  {
   "cell_type": "code",
   "execution_count": 166,
   "id": "a2aa5e15",
   "metadata": {},
   "outputs": [
    {
     "data": {
      "text/plain": [
       "'TgarimaHgarimaAgarimaKgarimaUgarimaR'"
      ]
     },
     "execution_count": 166,
     "metadata": {},
     "output_type": "execute_result"
    }
   ],
   "source": [
    "a.join(b)"
   ]
  },
  {
   "cell_type": "code",
   "execution_count": 167,
   "id": "80ba6075",
   "metadata": {},
   "outputs": [
    {
     "data": {
      "text/plain": [
       "'T H A K U R'"
      ]
     },
     "execution_count": 167,
     "metadata": {},
     "output_type": "execute_result"
    }
   ],
   "source": [
    "\" \".join(b)"
   ]
  },
  {
   "cell_type": "code",
   "execution_count": 168,
   "id": "1ec43c98",
   "metadata": {},
   "outputs": [
    {
     "ename": "AttributeError",
     "evalue": "'str' object has no attribute 'reversed'",
     "output_type": "error",
     "traceback": [
      "\u001b[1;31m---------------------------------------------------------------------------\u001b[0m",
      "\u001b[1;31mAttributeError\u001b[0m                            Traceback (most recent call last)",
      "\u001b[1;32m~\\AppData\\Local\\Temp/ipykernel_3220/3277594177.py\u001b[0m in \u001b[0;36m<module>\u001b[1;34m\u001b[0m\n\u001b[1;32m----> 1\u001b[1;33m \u001b[0ma\u001b[0m\u001b[1;33m.\u001b[0m\u001b[0mreversed\u001b[0m\u001b[1;33m(\u001b[0m\u001b[1;33m)\u001b[0m\u001b[1;33m\u001b[0m\u001b[1;33m\u001b[0m\u001b[0m\n\u001b[0m",
      "\u001b[1;31mAttributeError\u001b[0m: 'str' object has no attribute 'reversed'"
     ]
    }
   ],
   "source": [
    "a.reversed()"
   ]
  },
  {
   "cell_type": "code",
   "execution_count": 169,
   "id": "fdd1ee72",
   "metadata": {},
   "outputs": [
    {
     "data": {
      "text/plain": [
       "<reversed at 0x3e44f23640>"
      ]
     },
     "execution_count": 169,
     "metadata": {},
     "output_type": "execute_result"
    }
   ],
   "source": [
    "reversed(\"garima\")"
   ]
  },
  {
   "cell_type": "code",
   "execution_count": 170,
   "id": "8b844888",
   "metadata": {},
   "outputs": [
    {
     "ename": "SyntaxError",
     "evalue": "invalid syntax (Temp/ipykernel_3220/3106070620.py, line 1)",
     "output_type": "error",
     "traceback": [
      "\u001b[1;36m  File \u001b[1;32m\"C:\\Users\\abc\\AppData\\Local\\Temp/ipykernel_3220/3106070620.py\"\u001b[1;36m, line \u001b[1;32m1\u001b[0m\n\u001b[1;33m    for i in reversed(\"garima\")\u001b[0m\n\u001b[1;37m                               ^\u001b[0m\n\u001b[1;31mSyntaxError\u001b[0m\u001b[1;31m:\u001b[0m invalid syntax\n"
     ]
    }
   ],
   "source": [
    "for i in reversed(\"garima\")"
   ]
  },
  {
   "cell_type": "code",
   "execution_count": 171,
   "id": "bcc5f24d",
   "metadata": {},
   "outputs": [
    {
     "ename": "SyntaxError",
     "evalue": "invalid syntax (Temp/ipykernel_3220/3387312753.py, line 1)",
     "output_type": "error",
     "traceback": [
      "\u001b[1;36m  File \u001b[1;32m\"C:\\Users\\abc\\AppData\\Local\\Temp/ipykernel_3220/3387312753.py\"\u001b[1;36m, line \u001b[1;32m1\u001b[0m\n\u001b[1;33m    for i in reversed(\"garima\")\u001b[0m\n\u001b[1;37m                               ^\u001b[0m\n\u001b[1;31mSyntaxError\u001b[0m\u001b[1;31m:\u001b[0m invalid syntax\n"
     ]
    }
   ],
   "source": [
    "for i in reversed(\"garima\")\n",
    "print(i)"
   ]
  },
  {
   "cell_type": "code",
   "execution_count": 172,
   "id": "90990382",
   "metadata": {},
   "outputs": [
    {
     "name": "stdout",
     "output_type": "stream",
     "text": [
      "a\n",
      "m\n",
      "i\n",
      "r\n",
      "a\n",
      "g\n"
     ]
    }
   ],
   "source": [
    "for i in reversed(\"garima\"):\n",
    "    print(i)"
   ]
  },
  {
   "cell_type": "code",
   "execution_count": 173,
   "id": "5d7f483d",
   "metadata": {},
   "outputs": [
    {
     "name": "stdout",
     "output_type": "stream",
     "text": [
      "n\n",
      "o\n",
      "r\n",
      "u\n",
      "e\n",
      "n\n",
      "i\n",
      " \n",
      "n\n",
      "i\n",
      " \n",
      "k\n",
      "r\n",
      "o\n",
      "w\n",
      " \n",
      "i\n"
     ]
    }
   ],
   "source": [
    "for i in reversed (\"i work in ineuron\"):\n",
    "    print(i)"
   ]
  },
  {
   "cell_type": "code",
   "execution_count": 174,
   "id": "b682ed61",
   "metadata": {},
   "outputs": [],
   "source": [
    "a = \" i work in ineuron\""
   ]
  },
  {
   "cell_type": "code",
   "execution_count": 175,
   "id": "186337e4",
   "metadata": {},
   "outputs": [
    {
     "data": {
      "text/plain": [
       "' i work in ineuron'"
      ]
     },
     "execution_count": 175,
     "metadata": {},
     "output_type": "execute_result"
    }
   ],
   "source": [
    "a"
   ]
  },
  {
   "cell_type": "code",
   "execution_count": 176,
   "id": "01e3372b",
   "metadata": {},
   "outputs": [
    {
     "data": {
      "text/plain": [
       "'norueni ni krow i '"
      ]
     },
     "execution_count": 176,
     "metadata": {},
     "output_type": "execute_result"
    }
   ],
   "source": [
    "a[::-1]"
   ]
  },
  {
   "cell_type": "code",
   "execution_count": 177,
   "id": "26e3c5a8",
   "metadata": {},
   "outputs": [],
   "source": [
    "a = \" ineuron \""
   ]
  },
  {
   "cell_type": "code",
   "execution_count": 178,
   "id": "18aacc10",
   "metadata": {},
   "outputs": [
    {
     "data": {
      "text/plain": [
       "' ineuron '"
      ]
     },
     "execution_count": 178,
     "metadata": {},
     "output_type": "execute_result"
    }
   ],
   "source": [
    "a"
   ]
  },
  {
   "cell_type": "code",
   "execution_count": 179,
   "id": "79776705",
   "metadata": {},
   "outputs": [
    {
     "data": {
      "text/plain": [
       "'ineuron '"
      ]
     },
     "execution_count": 179,
     "metadata": {},
     "output_type": "execute_result"
    }
   ],
   "source": [
    "a.lstrip()"
   ]
  },
  {
   "cell_type": "code",
   "execution_count": 180,
   "id": "4387f1a3",
   "metadata": {},
   "outputs": [
    {
     "data": {
      "text/plain": [
       "' ineuron'"
      ]
     },
     "execution_count": 180,
     "metadata": {},
     "output_type": "execute_result"
    }
   ],
   "source": [
    "a.rstrip()"
   ]
  },
  {
   "cell_type": "code",
   "execution_count": 181,
   "id": "30314c94",
   "metadata": {},
   "outputs": [
    {
     "data": {
      "text/plain": [
       "' weneuron '"
      ]
     },
     "execution_count": 181,
     "metadata": {},
     "output_type": "execute_result"
    }
   ],
   "source": [
    "a.replace(\"i\",\"we\")"
   ]
  },
  {
   "cell_type": "code",
   "execution_count": 182,
   "id": "2c9dffc3",
   "metadata": {},
   "outputs": [
    {
     "data": {
      "text/plain": [
       "' ineuron '"
      ]
     },
     "execution_count": 182,
     "metadata": {},
     "output_type": "execute_result"
    }
   ],
   "source": [
    "a.replace(\"t\",\"we\")"
   ]
  },
  {
   "cell_type": "code",
   "execution_count": 183,
   "id": "83b37719",
   "metadata": {},
   "outputs": [
    {
     "data": {
      "text/plain": [
       "'amit/kumar'"
      ]
     },
     "execution_count": 183,
     "metadata": {},
     "output_type": "execute_result"
    }
   ],
   "source": [
    "\"amit/kumar\".expandtabs()"
   ]
  },
  {
   "cell_type": "code",
   "execution_count": 184,
   "id": "b9b7a31a",
   "metadata": {},
   "outputs": [
    {
     "data": {
      "text/plain": [
       "'amit\\\\kumar'"
      ]
     },
     "execution_count": 184,
     "metadata": {},
     "output_type": "execute_result"
    }
   ],
   "source": [
    "\"amit\\kumar\".expandtabs()"
   ]
  },
  {
   "cell_type": "code",
   "execution_count": 185,
   "id": "4dac4e1a",
   "metadata": {},
   "outputs": [
    {
     "data": {
      "text/plain": [
       "'amit    kumar'"
      ]
     },
     "execution_count": 185,
     "metadata": {},
     "output_type": "execute_result"
    }
   ],
   "source": [
    "\"amit\\tkumar\".expandtabs()"
   ]
  },
  {
   "cell_type": "code",
   "execution_count": 186,
   "id": "508fe6f1",
   "metadata": {},
   "outputs": [
    {
     "data": {
      "text/plain": [
       "' ineuron #'"
      ]
     },
     "execution_count": 186,
     "metadata": {},
     "output_type": "execute_result"
    }
   ],
   "source": [
    "a.center(10,\"#\")"
   ]
  },
  {
   "cell_type": "code",
   "execution_count": 187,
   "id": "44f3d1a6",
   "metadata": {},
   "outputs": [
    {
     "ename": "AttributeError",
     "evalue": "'str' object has no attribute 'centre'",
     "output_type": "error",
     "traceback": [
      "\u001b[1;31m---------------------------------------------------------------------------\u001b[0m",
      "\u001b[1;31mAttributeError\u001b[0m                            Traceback (most recent call last)",
      "\u001b[1;32m~\\AppData\\Local\\Temp/ipykernel_3220/4312481.py\u001b[0m in \u001b[0;36m<module>\u001b[1;34m\u001b[0m\n\u001b[1;32m----> 1\u001b[1;33m \u001b[0ma\u001b[0m\u001b[1;33m.\u001b[0m\u001b[0mcentre\u001b[0m\u001b[1;33m(\u001b[0m\u001b[1;36m40\u001b[0m\u001b[1;33m,\u001b[0m\u001b[1;34m\"#\"\u001b[0m\u001b[1;33m)\u001b[0m\u001b[1;33m\u001b[0m\u001b[1;33m\u001b[0m\u001b[0m\n\u001b[0m",
      "\u001b[1;31mAttributeError\u001b[0m: 'str' object has no attribute 'centre'"
     ]
    }
   ],
   "source": [
    "a.centre(40,\"#\")"
   ]
  },
  {
   "cell_type": "code",
   "execution_count": 188,
   "id": "6de227c5",
   "metadata": {},
   "outputs": [
    {
     "data": {
      "text/plain": [
       "'############### ineuron ################'"
      ]
     },
     "execution_count": 188,
     "metadata": {},
     "output_type": "execute_result"
    }
   ],
   "source": [
    "a.center(40,\"#\")"
   ]
  },
  {
   "cell_type": "code",
   "execution_count": 191,
   "id": "01312610",
   "metadata": {},
   "outputs": [],
   "source": [
    "b = \" i am working in ineuron \""
   ]
  },
  {
   "cell_type": "code",
   "execution_count": 192,
   "id": "a0c96f39",
   "metadata": {},
   "outputs": [
    {
     "data": {
      "text/plain": [
       "' i am working in ineuron '"
      ]
     },
     "execution_count": 192,
     "metadata": {},
     "output_type": "execute_result"
    }
   ],
   "source": [
    "b"
   ]
  },
  {
   "cell_type": "code",
   "execution_count": 193,
   "id": "46b5558b",
   "metadata": {},
   "outputs": [
    {
     "data": {
      "text/plain": [
       "'i am working in ineuron'"
      ]
     },
     "execution_count": 193,
     "metadata": {},
     "output_type": "execute_result"
    }
   ],
   "source": [
    "b.strip()"
   ]
  },
  {
   "cell_type": "code",
   "execution_count": 194,
   "id": "cba82260",
   "metadata": {},
   "outputs": [
    {
     "data": {
      "text/plain": [
       "' i am working in ineuron '"
      ]
     },
     "execution_count": 194,
     "metadata": {},
     "output_type": "execute_result"
    }
   ],
   "source": [
    "b.strip(\"am\")"
   ]
  },
  {
   "cell_type": "code",
   "execution_count": 195,
   "id": "f8c08c28",
   "metadata": {},
   "outputs": [],
   "source": [
    "c = \"it will not strip in the middle. it will only strip the space\""
   ]
  },
  {
   "cell_type": "code",
   "execution_count": 196,
   "id": "be1d2f8b",
   "metadata": {},
   "outputs": [
    {
     "data": {
      "text/plain": [
       "'it will not strip in the middle. it will only strip the space'"
      ]
     },
     "execution_count": 196,
     "metadata": {},
     "output_type": "execute_result"
    }
   ],
   "source": [
    "c"
   ]
  },
  {
   "cell_type": "code",
   "execution_count": 197,
   "id": "25fe14fb",
   "metadata": {},
   "outputs": [],
   "source": [
    "a = \"garima\""
   ]
  },
  {
   "cell_type": "code",
   "execution_count": 198,
   "id": "1e3a544d",
   "metadata": {},
   "outputs": [
    {
     "data": {
      "text/plain": [
       "'garima'"
      ]
     },
     "execution_count": 198,
     "metadata": {},
     "output_type": "execute_result"
    }
   ],
   "source": [
    "a"
   ]
  },
  {
   "cell_type": "code",
   "execution_count": 199,
   "id": "c17013e6",
   "metadata": {},
   "outputs": [
    {
     "data": {
      "text/plain": [
       "False"
      ]
     },
     "execution_count": 199,
     "metadata": {},
     "output_type": "execute_result"
    }
   ],
   "source": [
    "a.isupper()"
   ]
  },
  {
   "cell_type": "code",
   "execution_count": 200,
   "id": "f68544d4",
   "metadata": {},
   "outputs": [],
   "source": [
    "b = \"is will always return either true or false\""
   ]
  },
  {
   "cell_type": "code",
   "execution_count": 201,
   "id": "1ecf0623",
   "metadata": {},
   "outputs": [
    {
     "data": {
      "text/plain": [
       "'is will always return either true or false'"
      ]
     },
     "execution_count": 201,
     "metadata": {},
     "output_type": "execute_result"
    }
   ],
   "source": [
    "b"
   ]
  },
  {
   "cell_type": "code",
   "execution_count": 202,
   "id": "8ae9e5d9",
   "metadata": {},
   "outputs": [
    {
     "data": {
      "text/plain": [
       "True"
      ]
     },
     "execution_count": 202,
     "metadata": {},
     "output_type": "execute_result"
    }
   ],
   "source": [
    "a.isalnum()"
   ]
  },
  {
   "cell_type": "code",
   "execution_count": 203,
   "id": "f73f542c",
   "metadata": {},
   "outputs": [
    {
     "data": {
      "text/plain": [
       "True"
      ]
     },
     "execution_count": 203,
     "metadata": {},
     "output_type": "execute_result"
    }
   ],
   "source": [
    "a.isalpha()"
   ]
  },
  {
   "cell_type": "code",
   "execution_count": 204,
   "id": "aee1c341",
   "metadata": {},
   "outputs": [
    {
     "data": {
      "text/plain": [
       "True"
      ]
     },
     "execution_count": 204,
     "metadata": {},
     "output_type": "execute_result"
    }
   ],
   "source": [
    "a.isascii()"
   ]
  },
  {
   "cell_type": "code",
   "execution_count": 205,
   "id": "13509879",
   "metadata": {},
   "outputs": [
    {
     "data": {
      "text/plain": [
       "False"
      ]
     },
     "execution_count": 205,
     "metadata": {},
     "output_type": "execute_result"
    }
   ],
   "source": [
    "a.isdecimal()"
   ]
  },
  {
   "cell_type": "code",
   "execution_count": 206,
   "id": "30069c69",
   "metadata": {},
   "outputs": [
    {
     "data": {
      "text/plain": [
       "False"
      ]
     },
     "execution_count": 206,
     "metadata": {},
     "output_type": "execute_result"
    }
   ],
   "source": [
    "a.isdigit()"
   ]
  },
  {
   "cell_type": "code",
   "execution_count": 207,
   "id": "990a46f3",
   "metadata": {},
   "outputs": [
    {
     "data": {
      "text/plain": [
       "True"
      ]
     },
     "execution_count": 207,
     "metadata": {},
     "output_type": "execute_result"
    }
   ],
   "source": [
    "a.isidentifier()"
   ]
  },
  {
   "cell_type": "code",
   "execution_count": 208,
   "id": "7a50b0b1",
   "metadata": {},
   "outputs": [
    {
     "data": {
      "text/plain": [
       "True"
      ]
     },
     "execution_count": 208,
     "metadata": {},
     "output_type": "execute_result"
    }
   ],
   "source": [
    "a.islower()"
   ]
  },
  {
   "cell_type": "code",
   "execution_count": 209,
   "id": "f886fd08",
   "metadata": {},
   "outputs": [
    {
     "data": {
      "text/plain": [
       "True"
      ]
     },
     "execution_count": 209,
     "metadata": {},
     "output_type": "execute_result"
    }
   ],
   "source": [
    "a.isprintable()"
   ]
  },
  {
   "cell_type": "code",
   "execution_count": 210,
   "id": "9bda7189",
   "metadata": {},
   "outputs": [
    {
     "data": {
      "text/plain": [
       "False"
      ]
     },
     "execution_count": 210,
     "metadata": {},
     "output_type": "execute_result"
    }
   ],
   "source": [
    "a.isnumeric()"
   ]
  },
  {
   "cell_type": "code",
   "execution_count": 211,
   "id": "a126c6b8",
   "metadata": {},
   "outputs": [
    {
     "data": {
      "text/plain": [
       "False"
      ]
     },
     "execution_count": 211,
     "metadata": {},
     "output_type": "execute_result"
    }
   ],
   "source": [
    "a.isspace()"
   ]
  },
  {
   "cell_type": "code",
   "execution_count": 212,
   "id": "280e957b",
   "metadata": {},
   "outputs": [
    {
     "data": {
      "text/plain": [
       "False"
      ]
     },
     "execution_count": 212,
     "metadata": {},
     "output_type": "execute_result"
    }
   ],
   "source": [
    "a.istitle()"
   ]
  },
  {
   "cell_type": "code",
   "execution_count": 213,
   "id": "c3451d07",
   "metadata": {},
   "outputs": [],
   "source": [
    "a = \"Garima\""
   ]
  },
  {
   "cell_type": "code",
   "execution_count": 214,
   "id": "b19ac659",
   "metadata": {},
   "outputs": [
    {
     "data": {
      "text/plain": [
       "'Garima'"
      ]
     },
     "execution_count": 214,
     "metadata": {},
     "output_type": "execute_result"
    }
   ],
   "source": [
    "a"
   ]
  },
  {
   "cell_type": "code",
   "execution_count": 215,
   "id": "3c467af8",
   "metadata": {},
   "outputs": [
    {
     "data": {
      "text/plain": [
       "True"
      ]
     },
     "execution_count": 215,
     "metadata": {},
     "output_type": "execute_result"
    }
   ],
   "source": [
    "a.istitle()"
   ]
  },
  {
   "cell_type": "code",
   "execution_count": 216,
   "id": "e98d1383",
   "metadata": {},
   "outputs": [],
   "source": [
    "a = \"  \""
   ]
  },
  {
   "cell_type": "code",
   "execution_count": 217,
   "id": "38d9ba04",
   "metadata": {},
   "outputs": [
    {
     "data": {
      "text/plain": [
       "'  '"
      ]
     },
     "execution_count": 217,
     "metadata": {},
     "output_type": "execute_result"
    }
   ],
   "source": [
    "a"
   ]
  },
  {
   "cell_type": "code",
   "execution_count": 218,
   "id": "b5d5acd0",
   "metadata": {},
   "outputs": [
    {
     "data": {
      "text/plain": [
       "True"
      ]
     },
     "execution_count": 218,
     "metadata": {},
     "output_type": "execute_result"
    }
   ],
   "source": [
    "a.isspace()"
   ]
  },
  {
   "cell_type": "code",
   "execution_count": 219,
   "id": "144d2f5c",
   "metadata": {},
   "outputs": [
    {
     "data": {
      "text/plain": [
       "False"
      ]
     },
     "execution_count": 219,
     "metadata": {},
     "output_type": "execute_result"
    }
   ],
   "source": [
    "a.endswith(\"a\")"
   ]
  },
  {
   "cell_type": "code",
   "execution_count": 220,
   "id": "4a10e906",
   "metadata": {},
   "outputs": [
    {
     "data": {
      "text/plain": [
       "True"
      ]
     },
     "execution_count": 220,
     "metadata": {},
     "output_type": "execute_result"
    }
   ],
   "source": [
    "a.endswith(\" \")"
   ]
  },
  {
   "cell_type": "code",
   "execution_count": 221,
   "id": "3ce6016b",
   "metadata": {},
   "outputs": [
    {
     "data": {
      "text/plain": [
       "'  '"
      ]
     },
     "execution_count": 221,
     "metadata": {},
     "output_type": "execute_result"
    }
   ],
   "source": [
    "a.expandtabs()"
   ]
  },
  {
   "cell_type": "code",
   "execution_count": 222,
   "id": "ad80a814",
   "metadata": {},
   "outputs": [],
   "source": [
    "a = \"amit\\tkumar\""
   ]
  },
  {
   "cell_type": "code",
   "execution_count": 223,
   "id": "0a297f80",
   "metadata": {},
   "outputs": [
    {
     "data": {
      "text/plain": [
       "'amit\\tkumar'"
      ]
     },
     "execution_count": 223,
     "metadata": {},
     "output_type": "execute_result"
    }
   ],
   "source": [
    "a"
   ]
  },
  {
   "cell_type": "code",
   "execution_count": 224,
   "id": "6fafac51",
   "metadata": {},
   "outputs": [
    {
     "data": {
      "text/plain": [
       "'amit    kumar'"
      ]
     },
     "execution_count": 224,
     "metadata": {},
     "output_type": "execute_result"
    }
   ],
   "source": [
    "a.expandtabs()"
   ]
  },
  {
   "cell_type": "code",
   "execution_count": 225,
   "id": "157b8601",
   "metadata": {},
   "outputs": [
    {
     "data": {
      "text/plain": [
       "True"
      ]
     },
     "execution_count": 225,
     "metadata": {},
     "output_type": "execute_result"
    }
   ],
   "source": [
    "a.startswith(\"a\")"
   ]
  },
  {
   "cell_type": "code",
   "execution_count": 226,
   "id": "bbf31c86",
   "metadata": {},
   "outputs": [
    {
     "data": {
      "text/plain": [
       "True"
      ]
     },
     "execution_count": 226,
     "metadata": {},
     "output_type": "execute_result"
    }
   ],
   "source": [
    "a.endswith(\"r\")"
   ]
  },
  {
   "cell_type": "code",
   "execution_count": 227,
   "id": "b25258f4",
   "metadata": {},
   "outputs": [
    {
     "data": {
      "text/plain": [
       "b'amit\\tkumar'"
      ]
     },
     "execution_count": 227,
     "metadata": {},
     "output_type": "execute_result"
    }
   ],
   "source": [
    "a.encode()"
   ]
  },
  {
   "cell_type": "code",
   "execution_count": 228,
   "id": "9e24f8dd",
   "metadata": {},
   "outputs": [],
   "source": [
    "a = 10"
   ]
  },
  {
   "cell_type": "code",
   "execution_count": 229,
   "id": "0f582a48",
   "metadata": {},
   "outputs": [
    {
     "data": {
      "text/plain": [
       "10"
      ]
     },
     "execution_count": 229,
     "metadata": {},
     "output_type": "execute_result"
    }
   ],
   "source": [
    "a"
   ]
  },
  {
   "cell_type": "code",
   "execution_count": 230,
   "id": "7677ee8d",
   "metadata": {},
   "outputs": [],
   "source": [
    "b = \"20\""
   ]
  },
  {
   "cell_type": "code",
   "execution_count": 231,
   "id": "79713244",
   "metadata": {},
   "outputs": [
    {
     "data": {
      "text/plain": [
       "'20'"
      ]
     },
     "execution_count": 231,
     "metadata": {},
     "output_type": "execute_result"
    }
   ],
   "source": [
    "b"
   ]
  },
  {
   "cell_type": "code",
   "execution_count": 232,
   "id": "e747298f",
   "metadata": {},
   "outputs": [
    {
     "ename": "TypeError",
     "evalue": "unsupported operand type(s) for +: 'int' and 'str'",
     "output_type": "error",
     "traceback": [
      "\u001b[1;31m---------------------------------------------------------------------------\u001b[0m",
      "\u001b[1;31mTypeError\u001b[0m                                 Traceback (most recent call last)",
      "\u001b[1;32m~\\AppData\\Local\\Temp/ipykernel_3220/3553919051.py\u001b[0m in \u001b[0;36m<module>\u001b[1;34m\u001b[0m\n\u001b[1;32m----> 1\u001b[1;33m \u001b[0ma\u001b[0m\u001b[1;33m+\u001b[0m\u001b[0mb\u001b[0m\u001b[1;33m\u001b[0m\u001b[1;33m\u001b[0m\u001b[0m\n\u001b[0m",
      "\u001b[1;31mTypeError\u001b[0m: unsupported operand type(s) for +: 'int' and 'str'"
     ]
    }
   ],
   "source": [
    "a+b"
   ]
  },
  {
   "cell_type": "code",
   "execution_count": 233,
   "id": "4d12319e",
   "metadata": {},
   "outputs": [
    {
     "data": {
      "text/plain": [
       "'1020'"
      ]
     },
     "execution_count": 233,
     "metadata": {},
     "output_type": "execute_result"
    }
   ],
   "source": [
    "str(a) + b"
   ]
  },
  {
   "cell_type": "code",
   "execution_count": 234,
   "id": "9f7f7824",
   "metadata": {},
   "outputs": [
    {
     "data": {
      "text/plain": [
       "'10'"
      ]
     },
     "execution_count": 234,
     "metadata": {},
     "output_type": "execute_result"
    }
   ],
   "source": [
    "str(10)"
   ]
  },
  {
   "cell_type": "code",
   "execution_count": 235,
   "id": "e1b8f114",
   "metadata": {},
   "outputs": [
    {
     "data": {
      "text/plain": [
       "'1020'"
      ]
     },
     "execution_count": 235,
     "metadata": {},
     "output_type": "execute_result"
    }
   ],
   "source": [
    "str(10)+b"
   ]
  },
  {
   "cell_type": "code",
   "execution_count": 238,
   "id": "7213c1b9",
   "metadata": {},
   "outputs": [],
   "source": [
    "c = \"integer can be converted into string with str\""
   ]
  },
  {
   "cell_type": "code",
   "execution_count": 239,
   "id": "599e0166",
   "metadata": {},
   "outputs": [],
   "source": [
    "a = \"list is a collection of multiple objects. list is collection of homogeneous or heterogenous ojects\""
   ]
  },
  {
   "cell_type": "code",
   "execution_count": 240,
   "id": "8ec0a24f",
   "metadata": {},
   "outputs": [
    {
     "data": {
      "text/plain": [
       "'list is a collection of multiple objects. list is collection of homogeneous or heterogenous ojects'"
      ]
     },
     "execution_count": 240,
     "metadata": {},
     "output_type": "execute_result"
    }
   ],
   "source": [
    "a"
   ]
  },
  {
   "cell_type": "code",
   "execution_count": 241,
   "id": "611043d5",
   "metadata": {},
   "outputs": [],
   "source": [
    "l = [\"garima\", \"thakur\", \"38\", \"5+7j\", \"False\", \"56.90\"]"
   ]
  },
  {
   "cell_type": "code",
   "execution_count": 242,
   "id": "7f0770d7",
   "metadata": {},
   "outputs": [
    {
     "data": {
      "text/plain": [
       "['garima', 'thakur', '38', '5+7j', 'False', '56.90']"
      ]
     },
     "execution_count": 242,
     "metadata": {},
     "output_type": "execute_result"
    }
   ],
   "source": [
    "l"
   ]
  },
  {
   "cell_type": "code",
   "execution_count": 243,
   "id": "b635d40e",
   "metadata": {},
   "outputs": [
    {
     "data": {
      "text/plain": [
       "list"
      ]
     },
     "execution_count": 243,
     "metadata": {},
     "output_type": "execute_result"
    }
   ],
   "source": [
    "type(l)"
   ]
  },
  {
   "cell_type": "code",
   "execution_count": 244,
   "id": "199fdddc",
   "metadata": {},
   "outputs": [
    {
     "ename": "TypeError",
     "evalue": "'list' object is not callable",
     "output_type": "error",
     "traceback": [
      "\u001b[1;31m---------------------------------------------------------------------------\u001b[0m",
      "\u001b[1;31mTypeError\u001b[0m                                 Traceback (most recent call last)",
      "\u001b[1;32m~\\AppData\\Local\\Temp/ipykernel_3220/3841267438.py\u001b[0m in \u001b[0;36m<module>\u001b[1;34m\u001b[0m\n\u001b[1;32m----> 1\u001b[1;33m \u001b[0ml\u001b[0m\u001b[1;33m(\u001b[0m\u001b[1;36m0\u001b[0m\u001b[1;33m)\u001b[0m\u001b[1;33m\u001b[0m\u001b[1;33m\u001b[0m\u001b[0m\n\u001b[0m",
      "\u001b[1;31mTypeError\u001b[0m: 'list' object is not callable"
     ]
    }
   ],
   "source": [
    "l(0)"
   ]
  },
  {
   "cell_type": "code",
   "execution_count": 245,
   "id": "eea77b47",
   "metadata": {},
   "outputs": [
    {
     "data": {
      "text/plain": [
       "'garima'"
      ]
     },
     "execution_count": 245,
     "metadata": {},
     "output_type": "execute_result"
    }
   ],
   "source": [
    "l[0]"
   ]
  },
  {
   "cell_type": "code",
   "execution_count": 246,
   "id": "b4c16906",
   "metadata": {},
   "outputs": [
    {
     "data": {
      "text/plain": [
       "'thakur'"
      ]
     },
     "execution_count": 246,
     "metadata": {},
     "output_type": "execute_result"
    }
   ],
   "source": [
    "l[-5]"
   ]
  },
  {
   "cell_type": "code",
   "execution_count": 247,
   "id": "12a7cc9b",
   "metadata": {},
   "outputs": [
    {
     "data": {
      "text/plain": [
       "['garima', 'thakur', '38', '5+7j', 'False']"
      ]
     },
     "execution_count": 247,
     "metadata": {},
     "output_type": "execute_result"
    }
   ],
   "source": [
    "l[0:-1:1]"
   ]
  },
  {
   "cell_type": "code",
   "execution_count": 248,
   "id": "e7eccf23",
   "metadata": {},
   "outputs": [
    {
     "data": {
      "text/plain": [
       "['56.90', 'False', '5+7j', '38', 'thakur', 'garima']"
      ]
     },
     "execution_count": 248,
     "metadata": {},
     "output_type": "execute_result"
    }
   ],
   "source": [
    "l[::-1]"
   ]
  },
  {
   "cell_type": "code",
   "execution_count": 249,
   "id": "cfca9208",
   "metadata": {},
   "outputs": [],
   "source": [
    "a = \"garima\""
   ]
  },
  {
   "cell_type": "code",
   "execution_count": 250,
   "id": "8f5509da",
   "metadata": {},
   "outputs": [
    {
     "data": {
      "text/plain": [
       "'amirag'"
      ]
     },
     "execution_count": 250,
     "metadata": {},
     "output_type": "execute_result"
    }
   ],
   "source": [
    "a[::-1]"
   ]
  },
  {
   "cell_type": "code",
   "execution_count": 251,
   "id": "80403088",
   "metadata": {},
   "outputs": [
    {
     "data": {
      "text/plain": [
       "['garima', 'thakur', '38', '5+7j', 'False', '56.90']"
      ]
     },
     "execution_count": 251,
     "metadata": {},
     "output_type": "execute_result"
    }
   ],
   "source": [
    "l"
   ]
  },
  {
   "cell_type": "code",
   "execution_count": 252,
   "id": "1a818097",
   "metadata": {},
   "outputs": [
    {
     "data": {
      "text/plain": [
       "'garima'"
      ]
     },
     "execution_count": 252,
     "metadata": {},
     "output_type": "execute_result"
    }
   ],
   "source": [
    "l[0]"
   ]
  },
  {
   "cell_type": "code",
   "execution_count": 253,
   "id": "b799724e",
   "metadata": {},
   "outputs": [
    {
     "data": {
      "text/plain": [
       "str"
      ]
     },
     "execution_count": 253,
     "metadata": {},
     "output_type": "execute_result"
    }
   ],
   "source": [
    "type(l[0])"
   ]
  },
  {
   "cell_type": "code",
   "execution_count": 254,
   "id": "46df8cfe",
   "metadata": {},
   "outputs": [
    {
     "data": {
      "text/plain": [
       "'a'"
      ]
     },
     "execution_count": 254,
     "metadata": {},
     "output_type": "execute_result"
    }
   ],
   "source": [
    "l[0][1]"
   ]
  },
  {
   "cell_type": "code",
   "execution_count": 255,
   "id": "8b2fa80c",
   "metadata": {},
   "outputs": [
    {
     "data": {
      "text/plain": [
       "'5+7j'"
      ]
     },
     "execution_count": 255,
     "metadata": {},
     "output_type": "execute_result"
    }
   ],
   "source": [
    "l[3]"
   ]
  },
  {
   "cell_type": "code",
   "execution_count": 256,
   "id": "7ec4a965",
   "metadata": {},
   "outputs": [
    {
     "ename": "AttributeError",
     "evalue": "'str' object has no attribute 'real'",
     "output_type": "error",
     "traceback": [
      "\u001b[1;31m---------------------------------------------------------------------------\u001b[0m",
      "\u001b[1;31mAttributeError\u001b[0m                            Traceback (most recent call last)",
      "\u001b[1;32m~\\AppData\\Local\\Temp/ipykernel_3220/3507991545.py\u001b[0m in \u001b[0;36m<module>\u001b[1;34m\u001b[0m\n\u001b[1;32m----> 1\u001b[1;33m \u001b[0ml\u001b[0m\u001b[1;33m[\u001b[0m\u001b[1;36m3\u001b[0m\u001b[1;33m]\u001b[0m\u001b[1;33m.\u001b[0m\u001b[0mreal\u001b[0m\u001b[1;33m(\u001b[0m\u001b[1;33m)\u001b[0m\u001b[1;33m\u001b[0m\u001b[1;33m\u001b[0m\u001b[0m\n\u001b[0m",
      "\u001b[1;31mAttributeError\u001b[0m: 'str' object has no attribute 'real'"
     ]
    }
   ],
   "source": [
    "l[3].real()"
   ]
  },
  {
   "cell_type": "code",
   "execution_count": 257,
   "id": "0da9c430",
   "metadata": {},
   "outputs": [
    {
     "ename": "AttributeError",
     "evalue": "'str' object has no attribute 'real'",
     "output_type": "error",
     "traceback": [
      "\u001b[1;31m---------------------------------------------------------------------------\u001b[0m",
      "\u001b[1;31mAttributeError\u001b[0m                            Traceback (most recent call last)",
      "\u001b[1;32m~\\AppData\\Local\\Temp/ipykernel_3220/2257236133.py\u001b[0m in \u001b[0;36m<module>\u001b[1;34m\u001b[0m\n\u001b[1;32m----> 1\u001b[1;33m \u001b[0ml\u001b[0m\u001b[1;33m[\u001b[0m\u001b[1;36m3\u001b[0m\u001b[1;33m]\u001b[0m\u001b[1;33m.\u001b[0m\u001b[0mreal\u001b[0m\u001b[1;33m\u001b[0m\u001b[1;33m\u001b[0m\u001b[0m\n\u001b[0m",
      "\u001b[1;31mAttributeError\u001b[0m: 'str' object has no attribute 'real'"
     ]
    }
   ],
   "source": [
    "l[3].real"
   ]
  },
  {
   "cell_type": "code",
   "execution_count": 258,
   "id": "2f01340e",
   "metadata": {},
   "outputs": [
    {
     "data": {
      "text/plain": [
       "['garima', 'thakur', '38', '5+7j', 'False', '56.90']"
      ]
     },
     "execution_count": 258,
     "metadata": {},
     "output_type": "execute_result"
    }
   ],
   "source": [
    "l"
   ]
  },
  {
   "cell_type": "code",
   "execution_count": 259,
   "id": "9d01e4a7",
   "metadata": {},
   "outputs": [
    {
     "data": {
      "text/plain": [
       "'5+7j'"
      ]
     },
     "execution_count": 259,
     "metadata": {},
     "output_type": "execute_result"
    }
   ],
   "source": [
    "l[3]"
   ]
  },
  {
   "cell_type": "code",
   "execution_count": 260,
   "id": "8cd0daec",
   "metadata": {},
   "outputs": [
    {
     "ename": "AttributeError",
     "evalue": "'str' object has no attribute 'real'",
     "output_type": "error",
     "traceback": [
      "\u001b[1;31m---------------------------------------------------------------------------\u001b[0m",
      "\u001b[1;31mAttributeError\u001b[0m                            Traceback (most recent call last)",
      "\u001b[1;32m~\\AppData\\Local\\Temp/ipykernel_3220/2257236133.py\u001b[0m in \u001b[0;36m<module>\u001b[1;34m\u001b[0m\n\u001b[1;32m----> 1\u001b[1;33m \u001b[0ml\u001b[0m\u001b[1;33m[\u001b[0m\u001b[1;36m3\u001b[0m\u001b[1;33m]\u001b[0m\u001b[1;33m.\u001b[0m\u001b[0mreal\u001b[0m\u001b[1;33m\u001b[0m\u001b[1;33m\u001b[0m\u001b[0m\n\u001b[0m",
      "\u001b[1;31mAttributeError\u001b[0m: 'str' object has no attribute 'real'"
     ]
    }
   ],
   "source": [
    "l[3].real"
   ]
  },
  {
   "cell_type": "code",
   "execution_count": 1,
   "id": "dea935e1",
   "metadata": {},
   "outputs": [
    {
     "ename": "NameError",
     "evalue": "name 'l' is not defined",
     "output_type": "error",
     "traceback": [
      "\u001b[1;31m---------------------------------------------------------------------------\u001b[0m",
      "\u001b[1;31mNameError\u001b[0m                                 Traceback (most recent call last)",
      "\u001b[1;32m~\\AppData\\Local\\Temp/ipykernel_8956/3723490112.py\u001b[0m in \u001b[0;36m<module>\u001b[1;34m\u001b[0m\n\u001b[1;32m----> 1\u001b[1;33m \u001b[0ml\u001b[0m\u001b[1;33m\u001b[0m\u001b[1;33m\u001b[0m\u001b[0m\n\u001b[0m",
      "\u001b[1;31mNameError\u001b[0m: name 'l' is not defined"
     ]
    }
   ],
   "source": [
    "l"
   ]
  },
  {
   "cell_type": "code",
   "execution_count": 8,
   "id": "a0e15b32",
   "metadata": {},
   "outputs": [],
   "source": [
    "l = \"garima\", \"thakur\", 5+6j, 38, True, 38.38"
   ]
  },
  {
   "cell_type": "code",
   "execution_count": 3,
   "id": "6d8bea46",
   "metadata": {},
   "outputs": [
    {
     "data": {
      "text/plain": [
       "'38'"
      ]
     },
     "execution_count": 3,
     "metadata": {},
     "output_type": "execute_result"
    }
   ],
   "source": [
    "l[3]"
   ]
  },
  {
   "cell_type": "code",
   "execution_count": 9,
   "id": "750bd461",
   "metadata": {},
   "outputs": [
    {
     "data": {
      "text/plain": [
       "('garima', 'thakur', (5+6j), 38, True, 38.38)"
      ]
     },
     "execution_count": 9,
     "metadata": {},
     "output_type": "execute_result"
    }
   ],
   "source": [
    "l"
   ]
  },
  {
   "cell_type": "code",
   "execution_count": 4,
   "id": "27b0d43b",
   "metadata": {},
   "outputs": [
    {
     "data": {
      "text/plain": [
       "'5+6j'"
      ]
     },
     "execution_count": 4,
     "metadata": {},
     "output_type": "execute_result"
    }
   ],
   "source": [
    "l[2]"
   ]
  },
  {
   "cell_type": "code",
   "execution_count": 5,
   "id": "fb834507",
   "metadata": {},
   "outputs": [
    {
     "ename": "AttributeError",
     "evalue": "'str' object has no attribute 'real'",
     "output_type": "error",
     "traceback": [
      "\u001b[1;31m---------------------------------------------------------------------------\u001b[0m",
      "\u001b[1;31mAttributeError\u001b[0m                            Traceback (most recent call last)",
      "\u001b[1;32m~\\AppData\\Local\\Temp/ipykernel_8956/2374779323.py\u001b[0m in \u001b[0;36m<module>\u001b[1;34m\u001b[0m\n\u001b[1;32m----> 1\u001b[1;33m \u001b[0ml\u001b[0m\u001b[1;33m[\u001b[0m\u001b[1;36m2\u001b[0m\u001b[1;33m]\u001b[0m\u001b[1;33m.\u001b[0m\u001b[0mreal\u001b[0m\u001b[1;33m\u001b[0m\u001b[1;33m\u001b[0m\u001b[0m\n\u001b[0m",
      "\u001b[1;31mAttributeError\u001b[0m: 'str' object has no attribute 'real'"
     ]
    }
   ],
   "source": [
    "l[2].real"
   ]
  },
  {
   "cell_type": "code",
   "execution_count": 6,
   "id": "454b8041",
   "metadata": {},
   "outputs": [
    {
     "data": {
      "text/plain": [
       "str"
      ]
     },
     "execution_count": 6,
     "metadata": {},
     "output_type": "execute_result"
    }
   ],
   "source": [
    "type(l[2])"
   ]
  },
  {
   "cell_type": "code",
   "execution_count": 10,
   "id": "0cc7a4af",
   "metadata": {},
   "outputs": [
    {
     "data": {
      "text/plain": [
       "(5+6j)"
      ]
     },
     "execution_count": 10,
     "metadata": {},
     "output_type": "execute_result"
    }
   ],
   "source": [
    "l[2]"
   ]
  },
  {
   "cell_type": "code",
   "execution_count": 11,
   "id": "42504100",
   "metadata": {},
   "outputs": [
    {
     "data": {
      "text/plain": [
       "complex"
      ]
     },
     "execution_count": 11,
     "metadata": {},
     "output_type": "execute_result"
    }
   ],
   "source": [
    "type(l[2])"
   ]
  },
  {
   "cell_type": "code",
   "execution_count": 12,
   "id": "dae852bd",
   "metadata": {},
   "outputs": [
    {
     "data": {
      "text/plain": [
       "5.0"
      ]
     },
     "execution_count": 12,
     "metadata": {},
     "output_type": "execute_result"
    }
   ],
   "source": [
    "l[2].real"
   ]
  },
  {
   "cell_type": "code",
   "execution_count": 13,
   "id": "7b490848",
   "metadata": {},
   "outputs": [
    {
     "data": {
      "text/plain": [
       "6.0"
      ]
     },
     "execution_count": 13,
     "metadata": {},
     "output_type": "execute_result"
    }
   ],
   "source": [
    "l[2].imag"
   ]
  },
  {
   "cell_type": "code",
   "execution_count": 14,
   "id": "fb1cd0fa",
   "metadata": {},
   "outputs": [],
   "source": [
    "l1 = \"amit\", \"kumar\", 42\n",
    "l2 = 5+6j, 42.42, False"
   ]
  },
  {
   "cell_type": "code",
   "execution_count": 15,
   "id": "3cb6bdce",
   "metadata": {},
   "outputs": [
    {
     "data": {
      "text/plain": [
       "('amit', 'kumar', 42, (5+6j), 42.42, False)"
      ]
     },
     "execution_count": 15,
     "metadata": {},
     "output_type": "execute_result"
    }
   ],
   "source": [
    "l1 +l2"
   ]
  },
  {
   "cell_type": "code",
   "execution_count": 16,
   "id": "1189a2ec",
   "metadata": {},
   "outputs": [
    {
     "ename": "TypeError",
     "evalue": "can only concatenate tuple (not \"str\") to tuple",
     "output_type": "error",
     "traceback": [
      "\u001b[1;31m---------------------------------------------------------------------------\u001b[0m",
      "\u001b[1;31mTypeError\u001b[0m                                 Traceback (most recent call last)",
      "\u001b[1;32m~\\AppData\\Local\\Temp/ipykernel_8956/4073406925.py\u001b[0m in \u001b[0;36m<module>\u001b[1;34m\u001b[0m\n\u001b[1;32m----> 1\u001b[1;33m \u001b[0ml1\u001b[0m \u001b[1;33m+\u001b[0m \u001b[1;34m\"amit\"\u001b[0m\u001b[1;33m\u001b[0m\u001b[1;33m\u001b[0m\u001b[0m\n\u001b[0m",
      "\u001b[1;31mTypeError\u001b[0m: can only concatenate tuple (not \"str\") to tuple"
     ]
    }
   ],
   "source": [
    "l1 + \"amit\""
   ]
  },
  {
   "cell_type": "code",
   "execution_count": 17,
   "id": "6a92492a",
   "metadata": {},
   "outputs": [
    {
     "ename": "TypeError",
     "evalue": "can only concatenate tuple (not \"list\") to tuple",
     "output_type": "error",
     "traceback": [
      "\u001b[1;31m---------------------------------------------------------------------------\u001b[0m",
      "\u001b[1;31mTypeError\u001b[0m                                 Traceback (most recent call last)",
      "\u001b[1;32m~\\AppData\\Local\\Temp/ipykernel_8956/774755820.py\u001b[0m in \u001b[0;36m<module>\u001b[1;34m\u001b[0m\n\u001b[1;32m----> 1\u001b[1;33m \u001b[0ml1\u001b[0m \u001b[1;33m+\u001b[0m \u001b[1;33m[\u001b[0m\u001b[1;34m\"amit\"\u001b[0m\u001b[1;33m]\u001b[0m\u001b[1;33m\u001b[0m\u001b[1;33m\u001b[0m\u001b[0m\n\u001b[0m",
      "\u001b[1;31mTypeError\u001b[0m: can only concatenate tuple (not \"list\") to tuple"
     ]
    }
   ],
   "source": [
    "l1 + [\"amit\"]"
   ]
  },
  {
   "cell_type": "code",
   "execution_count": 18,
   "id": "5c49437e",
   "metadata": {},
   "outputs": [
    {
     "ename": "TypeError",
     "evalue": "can only concatenate tuple (not \"set\") to tuple",
     "output_type": "error",
     "traceback": [
      "\u001b[1;31m---------------------------------------------------------------------------\u001b[0m",
      "\u001b[1;31mTypeError\u001b[0m                                 Traceback (most recent call last)",
      "\u001b[1;32m~\\AppData\\Local\\Temp/ipykernel_8956/2727771763.py\u001b[0m in \u001b[0;36m<module>\u001b[1;34m\u001b[0m\n\u001b[1;32m----> 1\u001b[1;33m \u001b[0ml1\u001b[0m \u001b[1;33m+\u001b[0m\u001b[1;33m{\u001b[0m\u001b[1;34m\"amit\"\u001b[0m\u001b[1;33m}\u001b[0m\u001b[1;33m\u001b[0m\u001b[1;33m\u001b[0m\u001b[0m\n\u001b[0m",
      "\u001b[1;31mTypeError\u001b[0m: can only concatenate tuple (not \"set\") to tuple"
     ]
    }
   ],
   "source": [
    "l1 +{\"amit\"}"
   ]
  },
  {
   "cell_type": "code",
   "execution_count": 19,
   "id": "bc81efb3",
   "metadata": {},
   "outputs": [
    {
     "ename": "NameError",
     "evalue": "name 'amit' is not defined",
     "output_type": "error",
     "traceback": [
      "\u001b[1;31m---------------------------------------------------------------------------\u001b[0m",
      "\u001b[1;31mNameError\u001b[0m                                 Traceback (most recent call last)",
      "\u001b[1;32m~\\AppData\\Local\\Temp/ipykernel_8956/3568525185.py\u001b[0m in \u001b[0;36m<module>\u001b[1;34m\u001b[0m\n\u001b[1;32m----> 1\u001b[1;33m \u001b[0ml1\u001b[0m \u001b[1;33m+\u001b[0m \u001b[0mamit\u001b[0m\u001b[1;33m\u001b[0m\u001b[1;33m\u001b[0m\u001b[0m\n\u001b[0m",
      "\u001b[1;31mNameError\u001b[0m: name 'amit' is not defined"
     ]
    }
   ],
   "source": [
    "l1 + amit"
   ]
  },
  {
   "cell_type": "code",
   "execution_count": 20,
   "id": "d90000a6",
   "metadata": {},
   "outputs": [],
   "source": [
    "l1 = [\"amit\", \"kumar\"]"
   ]
  },
  {
   "cell_type": "code",
   "execution_count": 21,
   "id": "b0a31b51",
   "metadata": {},
   "outputs": [
    {
     "ename": "TypeError",
     "evalue": "can only concatenate list (not \"str\") to list",
     "output_type": "error",
     "traceback": [
      "\u001b[1;31m---------------------------------------------------------------------------\u001b[0m",
      "\u001b[1;31mTypeError\u001b[0m                                 Traceback (most recent call last)",
      "\u001b[1;32m~\\AppData\\Local\\Temp/ipykernel_8956/4073406925.py\u001b[0m in \u001b[0;36m<module>\u001b[1;34m\u001b[0m\n\u001b[1;32m----> 1\u001b[1;33m \u001b[0ml1\u001b[0m \u001b[1;33m+\u001b[0m \u001b[1;34m\"amit\"\u001b[0m\u001b[1;33m\u001b[0m\u001b[1;33m\u001b[0m\u001b[0m\n\u001b[0m",
      "\u001b[1;31mTypeError\u001b[0m: can only concatenate list (not \"str\") to list"
     ]
    }
   ],
   "source": [
    "l1 + \"amit\""
   ]
  },
  {
   "cell_type": "code",
   "execution_count": 22,
   "id": "6d213d3c",
   "metadata": {},
   "outputs": [
    {
     "data": {
      "text/plain": [
       "['amit', 'kumar', 'amit']"
      ]
     },
     "execution_count": 22,
     "metadata": {},
     "output_type": "execute_result"
    }
   ],
   "source": [
    "l1 + [\"amit\"]"
   ]
  },
  {
   "cell_type": "code",
   "execution_count": 23,
   "id": "e0eedb52",
   "metadata": {},
   "outputs": [
    {
     "data": {
      "text/plain": [
       "['amit', 'kumar', 'amit', 'kumar']"
      ]
     },
     "execution_count": 23,
     "metadata": {},
     "output_type": "execute_result"
    }
   ],
   "source": [
    "l1*2"
   ]
  },
  {
   "cell_type": "code",
   "execution_count": 24,
   "id": "6c454593",
   "metadata": {},
   "outputs": [
    {
     "data": {
      "text/plain": [
       "'amit'"
      ]
     },
     "execution_count": 24,
     "metadata": {},
     "output_type": "execute_result"
    }
   ],
   "source": [
    "l1[0]"
   ]
  },
  {
   "cell_type": "code",
   "execution_count": 25,
   "id": "37ef051b",
   "metadata": {},
   "outputs": [],
   "source": [
    "l1[0]=\"subh\""
   ]
  },
  {
   "cell_type": "code",
   "execution_count": 26,
   "id": "c5faefbe",
   "metadata": {},
   "outputs": [
    {
     "data": {
      "text/plain": [
       "['subh', 'kumar']"
      ]
     },
     "execution_count": 26,
     "metadata": {},
     "output_type": "execute_result"
    }
   ],
   "source": [
    "l1"
   ]
  },
  {
   "cell_type": "code",
   "execution_count": 27,
   "id": "a2840360",
   "metadata": {},
   "outputs": [],
   "source": [
    "l1[0] = 454554"
   ]
  },
  {
   "cell_type": "code",
   "execution_count": 28,
   "id": "89779258",
   "metadata": {},
   "outputs": [
    {
     "data": {
      "text/plain": [
       "[454554, 'kumar']"
      ]
     },
     "execution_count": 28,
     "metadata": {},
     "output_type": "execute_result"
    }
   ],
   "source": [
    "l1"
   ]
  },
  {
   "cell_type": "code",
   "execution_count": 29,
   "id": "a0d9d19f",
   "metadata": {},
   "outputs": [
    {
     "data": {
      "text/plain": [
       "'kumar'"
      ]
     },
     "execution_count": 29,
     "metadata": {},
     "output_type": "execute_result"
    }
   ],
   "source": [
    "l1[1]"
   ]
  },
  {
   "cell_type": "code",
   "execution_count": 35,
   "id": "29c7b858",
   "metadata": {},
   "outputs": [],
   "source": [
    "z = \"change k with s\""
   ]
  },
  {
   "cell_type": "code",
   "execution_count": 36,
   "id": "d282fe2a",
   "metadata": {},
   "outputs": [
    {
     "data": {
      "text/plain": [
       "'change k with s'"
      ]
     },
     "execution_count": 36,
     "metadata": {},
     "output_type": "execute_result"
    }
   ],
   "source": [
    "z"
   ]
  },
  {
   "cell_type": "code",
   "execution_count": 37,
   "id": "9578bb55",
   "metadata": {},
   "outputs": [],
   "source": [
    "s = \"kumar\""
   ]
  },
  {
   "cell_type": "code",
   "execution_count": 38,
   "id": "e3da79e8",
   "metadata": {},
   "outputs": [
    {
     "data": {
      "text/plain": [
       "'k'"
      ]
     },
     "execution_count": 38,
     "metadata": {},
     "output_type": "execute_result"
    }
   ],
   "source": [
    "s[0]"
   ]
  },
  {
   "cell_type": "code",
   "execution_count": 39,
   "id": "0bd84799",
   "metadata": {},
   "outputs": [
    {
     "ename": "TypeError",
     "evalue": "'str' object does not support item assignment",
     "output_type": "error",
     "traceback": [
      "\u001b[1;31m---------------------------------------------------------------------------\u001b[0m",
      "\u001b[1;31mTypeError\u001b[0m                                 Traceback (most recent call last)",
      "\u001b[1;32m~\\AppData\\Local\\Temp/ipykernel_8956/1017469409.py\u001b[0m in \u001b[0;36m<module>\u001b[1;34m\u001b[0m\n\u001b[1;32m----> 1\u001b[1;33m \u001b[0ms\u001b[0m\u001b[1;33m[\u001b[0m\u001b[1;36m0\u001b[0m\u001b[1;33m]\u001b[0m\u001b[1;33m=\u001b[0m\u001b[1;33m[\u001b[0m\u001b[1;34m\"s\"\u001b[0m\u001b[1;33m]\u001b[0m\u001b[1;33m\u001b[0m\u001b[1;33m\u001b[0m\u001b[0m\n\u001b[0m",
      "\u001b[1;31mTypeError\u001b[0m: 'str' object does not support item assignment"
     ]
    }
   ],
   "source": [
    "s[0]=[\"s\"]"
   ]
  },
  {
   "cell_type": "code",
   "execution_count": 40,
   "id": "54d2c148",
   "metadata": {},
   "outputs": [],
   "source": [
    "z= \"list is mutable ie, each object/ index can be changed or replaced. but string is non mutable. if we try to change or replace string it will show error\""
   ]
  },
  {
   "cell_type": "code",
   "execution_count": 41,
   "id": "38b996f5",
   "metadata": {},
   "outputs": [
    {
     "data": {
      "text/plain": [
       "'list is mutable ie, each object/ index can be changed or replaced. but string is non mutable. if we try to change or replace string it will show error'"
      ]
     },
     "execution_count": 41,
     "metadata": {},
     "output_type": "execute_result"
    }
   ],
   "source": [
    "z"
   ]
  },
  {
   "cell_type": "code",
   "execution_count": 42,
   "id": "343cad85",
   "metadata": {},
   "outputs": [
    {
     "data": {
      "text/plain": [
       "'kumar'"
      ]
     },
     "execution_count": 42,
     "metadata": {},
     "output_type": "execute_result"
    }
   ],
   "source": [
    "s"
   ]
  },
  {
   "cell_type": "code",
   "execution_count": 43,
   "id": "d4379b57",
   "metadata": {},
   "outputs": [
    {
     "data": {
      "text/plain": [
       "'sumar'"
      ]
     },
     "execution_count": 43,
     "metadata": {},
     "output_type": "execute_result"
    }
   ],
   "source": [
    "s.replace(\"k\", \"s\")"
   ]
  },
  {
   "cell_type": "code",
   "execution_count": 45,
   "id": "8c7eb4f3",
   "metadata": {},
   "outputs": [],
   "source": [
    "z = \"in this case, in string it has replaced k with s. but it has not done actual replacement. index of K remains 0. it has made separate space/ address for s\""
   ]
  },
  {
   "cell_type": "code",
   "execution_count": 46,
   "id": "23038c24",
   "metadata": {},
   "outputs": [
    {
     "data": {
      "text/plain": [
       "'in this case, in string it has replaced k with s. but it has not done actual replacement. index of K remains 0. it has made separate space/ address for s'"
      ]
     },
     "execution_count": 46,
     "metadata": {},
     "output_type": "execute_result"
    }
   ],
   "source": [
    "z"
   ]
  },
  {
   "cell_type": "code",
   "execution_count": 47,
   "id": "53e8fa96",
   "metadata": {},
   "outputs": [
    {
     "data": {
      "text/plain": [
       "[454554, 'sumar']"
      ]
     },
     "execution_count": 47,
     "metadata": {},
     "output_type": "execute_result"
    }
   ],
   "source": [
    "l1"
   ]
  },
  {
   "cell_type": "code",
   "execution_count": 48,
   "id": "2c77a5b9",
   "metadata": {},
   "outputs": [
    {
     "data": {
      "text/plain": [
       "2"
      ]
     },
     "execution_count": 48,
     "metadata": {},
     "output_type": "execute_result"
    }
   ],
   "source": [
    "len(l1)"
   ]
  },
  {
   "cell_type": "code",
   "execution_count": 49,
   "id": "2852119b",
   "metadata": {},
   "outputs": [
    {
     "data": {
      "text/plain": [
       "True"
      ]
     },
     "execution_count": 49,
     "metadata": {},
     "output_type": "execute_result"
    }
   ],
   "source": [
    "\"sumar\" in l1"
   ]
  },
  {
   "cell_type": "code",
   "execution_count": 50,
   "id": "34403e36",
   "metadata": {},
   "outputs": [
    {
     "data": {
      "text/plain": [
       "False"
      ]
     },
     "execution_count": 50,
     "metadata": {},
     "output_type": "execute_result"
    }
   ],
   "source": [
    "\"kumar\" in l1"
   ]
  },
  {
   "cell_type": "code",
   "execution_count": 51,
   "id": "86adfda2",
   "metadata": {},
   "outputs": [
    {
     "data": {
      "text/plain": [
       "[454554, 'sumar']"
      ]
     },
     "execution_count": 51,
     "metadata": {},
     "output_type": "execute_result"
    }
   ],
   "source": [
    "l1"
   ]
  },
  {
   "cell_type": "code",
   "execution_count": 52,
   "id": "4b38e57a",
   "metadata": {},
   "outputs": [],
   "source": [
    "z = \"if you want to add elements to list, one way is make another list and add/ concatenate. second way is adding one by one\""
   ]
  },
  {
   "cell_type": "code",
   "execution_count": 53,
   "id": "a260f3b3",
   "metadata": {},
   "outputs": [
    {
     "data": {
      "text/plain": [
       "'if you want to add elements to list, one way is make another list and add/ concatenate. second way is adding one by one'"
      ]
     },
     "execution_count": 53,
     "metadata": {},
     "output_type": "execute_result"
    }
   ],
   "source": [
    "z"
   ]
  },
  {
   "cell_type": "code",
   "execution_count": 55,
   "id": "fc09809a",
   "metadata": {},
   "outputs": [
    {
     "ename": "TypeError",
     "evalue": "'builtin_function_or_method' object is not subscriptable",
     "output_type": "error",
     "traceback": [
      "\u001b[1;31m---------------------------------------------------------------------------\u001b[0m",
      "\u001b[1;31mTypeError\u001b[0m                                 Traceback (most recent call last)",
      "\u001b[1;32m~\\AppData\\Local\\Temp/ipykernel_8956/3574708012.py\u001b[0m in \u001b[0;36m<module>\u001b[1;34m\u001b[0m\n\u001b[1;32m----> 1\u001b[1;33m \u001b[0ml1\u001b[0m\u001b[1;33m.\u001b[0m\u001b[0mappend\u001b[0m\u001b[1;33m[\u001b[0m\u001b[1;34m\"456\"\u001b[0m\u001b[1;33m]\u001b[0m\u001b[1;33m\u001b[0m\u001b[1;33m\u001b[0m\u001b[0m\n\u001b[0m",
      "\u001b[1;31mTypeError\u001b[0m: 'builtin_function_or_method' object is not subscriptable"
     ]
    }
   ],
   "source": [
    "l1.append[\"456\"]"
   ]
  },
  {
   "cell_type": "code",
   "execution_count": 56,
   "id": "ca3547cf",
   "metadata": {},
   "outputs": [
    {
     "ename": "TypeError",
     "evalue": "'builtin_function_or_method' object is not subscriptable",
     "output_type": "error",
     "traceback": [
      "\u001b[1;31m---------------------------------------------------------------------------\u001b[0m",
      "\u001b[1;31mTypeError\u001b[0m                                 Traceback (most recent call last)",
      "\u001b[1;32m~\\AppData\\Local\\Temp/ipykernel_8956/10358995.py\u001b[0m in \u001b[0;36m<module>\u001b[1;34m\u001b[0m\n\u001b[1;32m----> 1\u001b[1;33m \u001b[0ml1\u001b[0m\u001b[1;33m.\u001b[0m\u001b[0mappend\u001b[0m\u001b[1;33m[\u001b[0m\u001b[1;34m\"amit\"\u001b[0m\u001b[1;33m]\u001b[0m\u001b[1;33m\u001b[0m\u001b[1;33m\u001b[0m\u001b[0m\n\u001b[0m",
      "\u001b[1;31mTypeError\u001b[0m: 'builtin_function_or_method' object is not subscriptable"
     ]
    }
   ],
   "source": [
    "l1.append[\"amit\"]"
   ]
  },
  {
   "cell_type": "code",
   "execution_count": 57,
   "id": "1933d1e3",
   "metadata": {},
   "outputs": [],
   "source": [
    "l1.append(\"amit\")"
   ]
  },
  {
   "cell_type": "code",
   "execution_count": 58,
   "id": "5dc4d03c",
   "metadata": {},
   "outputs": [
    {
     "data": {
      "text/plain": [
       "[454554, 'sumar', 'amit']"
      ]
     },
     "execution_count": 58,
     "metadata": {},
     "output_type": "execute_result"
    }
   ],
   "source": [
    "l1"
   ]
  },
  {
   "cell_type": "code",
   "execution_count": 59,
   "id": "80b2c4ab",
   "metadata": {},
   "outputs": [],
   "source": [
    "l1.append(\"606060\")"
   ]
  },
  {
   "cell_type": "code",
   "execution_count": 60,
   "id": "95102239",
   "metadata": {},
   "outputs": [
    {
     "data": {
      "text/plain": [
       "[454554, 'sumar', 'amit', '606060']"
      ]
     },
     "execution_count": 60,
     "metadata": {},
     "output_type": "execute_result"
    }
   ],
   "source": [
    "l1"
   ]
  },
  {
   "cell_type": "code",
   "execution_count": 61,
   "id": "fdfa5717",
   "metadata": {},
   "outputs": [
    {
     "data": {
      "text/plain": [
       "'606060'"
      ]
     },
     "execution_count": 61,
     "metadata": {},
     "output_type": "execute_result"
    }
   ],
   "source": [
    "l1.pop()"
   ]
  },
  {
   "cell_type": "code",
   "execution_count": 62,
   "id": "c0b1e422",
   "metadata": {},
   "outputs": [
    {
     "ename": "IndexError",
     "evalue": "pop index out of range",
     "output_type": "error",
     "traceback": [
      "\u001b[1;31m---------------------------------------------------------------------------\u001b[0m",
      "\u001b[1;31mIndexError\u001b[0m                                Traceback (most recent call last)",
      "\u001b[1;32m~\\AppData\\Local\\Temp/ipykernel_8956/619608321.py\u001b[0m in \u001b[0;36m<module>\u001b[1;34m\u001b[0m\n\u001b[1;32m----> 1\u001b[1;33m \u001b[0ml1\u001b[0m\u001b[1;33m.\u001b[0m\u001b[0mpop\u001b[0m\u001b[1;33m(\u001b[0m\u001b[1;36m3\u001b[0m\u001b[1;33m)\u001b[0m\u001b[1;33m\u001b[0m\u001b[1;33m\u001b[0m\u001b[0m\n\u001b[0m",
      "\u001b[1;31mIndexError\u001b[0m: pop index out of range"
     ]
    }
   ],
   "source": [
    "l1.pop(3)"
   ]
  },
  {
   "cell_type": "code",
   "execution_count": 63,
   "id": "35a7331f",
   "metadata": {},
   "outputs": [
    {
     "ename": "TypeError",
     "evalue": "'list' object is not callable",
     "output_type": "error",
     "traceback": [
      "\u001b[1;31m---------------------------------------------------------------------------\u001b[0m",
      "\u001b[1;31mTypeError\u001b[0m                                 Traceback (most recent call last)",
      "\u001b[1;32m~\\AppData\\Local\\Temp/ipykernel_8956/781479450.py\u001b[0m in \u001b[0;36m<module>\u001b[1;34m\u001b[0m\n\u001b[1;32m----> 1\u001b[1;33m \u001b[0ml1\u001b[0m\u001b[1;33m(\u001b[0m\u001b[1;36m0\u001b[0m\u001b[1;33m)\u001b[0m\u001b[1;33m\u001b[0m\u001b[1;33m\u001b[0m\u001b[0m\n\u001b[0m",
      "\u001b[1;31mTypeError\u001b[0m: 'list' object is not callable"
     ]
    }
   ],
   "source": [
    "l1(0)"
   ]
  },
  {
   "cell_type": "code",
   "execution_count": 64,
   "id": "476cd77f",
   "metadata": {},
   "outputs": [
    {
     "data": {
      "text/plain": [
       "454554"
      ]
     },
     "execution_count": 64,
     "metadata": {},
     "output_type": "execute_result"
    }
   ],
   "source": [
    "l1[0]"
   ]
  },
  {
   "cell_type": "code",
   "execution_count": 65,
   "id": "c5a3f6cb",
   "metadata": {},
   "outputs": [
    {
     "data": {
      "text/plain": [
       "454554"
      ]
     },
     "execution_count": 65,
     "metadata": {},
     "output_type": "execute_result"
    }
   ],
   "source": [
    "l1.pop(0)"
   ]
  },
  {
   "cell_type": "code",
   "execution_count": 66,
   "id": "f86e0f65",
   "metadata": {},
   "outputs": [
    {
     "data": {
      "text/plain": [
       "['sumar', 'amit']"
      ]
     },
     "execution_count": 66,
     "metadata": {},
     "output_type": "execute_result"
    }
   ],
   "source": [
    "l1"
   ]
  },
  {
   "cell_type": "code",
   "execution_count": 67,
   "id": "dfd535d7",
   "metadata": {},
   "outputs": [],
   "source": [
    "l1.append(60606)"
   ]
  },
  {
   "cell_type": "code",
   "execution_count": 68,
   "id": "e175f104",
   "metadata": {},
   "outputs": [
    {
     "data": {
      "text/plain": [
       "['sumar', 'amit', 60606]"
      ]
     },
     "execution_count": 68,
     "metadata": {},
     "output_type": "execute_result"
    }
   ],
   "source": [
    "l1"
   ]
  },
  {
   "cell_type": "code",
   "execution_count": 70,
   "id": "d970bd90",
   "metadata": {},
   "outputs": [
    {
     "ename": "TypeError",
     "evalue": "list.append() takes exactly one argument (2 given)",
     "output_type": "error",
     "traceback": [
      "\u001b[1;31m---------------------------------------------------------------------------\u001b[0m",
      "\u001b[1;31mTypeError\u001b[0m                                 Traceback (most recent call last)",
      "\u001b[1;32m~\\AppData\\Local\\Temp/ipykernel_8956/1849163379.py\u001b[0m in \u001b[0;36m<module>\u001b[1;34m\u001b[0m\n\u001b[1;32m----> 1\u001b[1;33m \u001b[0ml1\u001b[0m\u001b[1;33m.\u001b[0m\u001b[0mappend\u001b[0m\u001b[1;33m(\u001b[0m\u001b[1;36m2\u001b[0m\u001b[1;33m,\u001b[0m\u001b[1;34m\"xyz\"\u001b[0m\u001b[1;33m)\u001b[0m\u001b[1;33m\u001b[0m\u001b[1;33m\u001b[0m\u001b[0m\n\u001b[0m",
      "\u001b[1;31mTypeError\u001b[0m: list.append() takes exactly one argument (2 given)"
     ]
    }
   ],
   "source": [
    "l1.append(2,\"xyz\")"
   ]
  },
  {
   "cell_type": "code",
   "execution_count": 71,
   "id": "9d880198",
   "metadata": {},
   "outputs": [
    {
     "ename": "TypeError",
     "evalue": "list.append() takes exactly one argument (2 given)",
     "output_type": "error",
     "traceback": [
      "\u001b[1;31m---------------------------------------------------------------------------\u001b[0m",
      "\u001b[1;31mTypeError\u001b[0m                                 Traceback (most recent call last)",
      "\u001b[1;32m~\\AppData\\Local\\Temp/ipykernel_8956/2610538754.py\u001b[0m in \u001b[0;36m<module>\u001b[1;34m\u001b[0m\n\u001b[1;32m----> 1\u001b[1;33m \u001b[0ml1\u001b[0m\u001b[1;33m.\u001b[0m\u001b[0mappend\u001b[0m\u001b[1;33m(\u001b[0m\u001b[1;36m1\u001b[0m\u001b[1;33m,\u001b[0m\u001b[1;34m\"xyz\"\u001b[0m\u001b[1;33m)\u001b[0m\u001b[1;33m\u001b[0m\u001b[1;33m\u001b[0m\u001b[0m\n\u001b[0m",
      "\u001b[1;31mTypeError\u001b[0m: list.append() takes exactly one argument (2 given)"
     ]
    }
   ],
   "source": [
    "l1.append(1,\"xyz\")"
   ]
  },
  {
   "cell_type": "code",
   "execution_count": 72,
   "id": "81eee6f8",
   "metadata": {},
   "outputs": [
    {
     "ename": "TypeError",
     "evalue": "list.append() takes exactly one argument (2 given)",
     "output_type": "error",
     "traceback": [
      "\u001b[1;31m---------------------------------------------------------------------------\u001b[0m",
      "\u001b[1;31mTypeError\u001b[0m                                 Traceback (most recent call last)",
      "\u001b[1;32m~\\AppData\\Local\\Temp/ipykernel_8956/2132423206.py\u001b[0m in \u001b[0;36m<module>\u001b[1;34m\u001b[0m\n\u001b[1;32m----> 1\u001b[1;33m \u001b[0ml1\u001b[0m\u001b[1;33m.\u001b[0m\u001b[0mappend\u001b[0m\u001b[1;33m(\u001b[0m\u001b[1;36m1\u001b[0m\u001b[1;33m,\u001b[0m \u001b[1;34m\"xyz\"\u001b[0m\u001b[1;33m)\u001b[0m\u001b[1;33m\u001b[0m\u001b[1;33m\u001b[0m\u001b[0m\n\u001b[0m",
      "\u001b[1;31mTypeError\u001b[0m: list.append() takes exactly one argument (2 given)"
     ]
    }
   ],
   "source": [
    "l1.append(1, \"xyz\")"
   ]
  },
  {
   "cell_type": "code",
   "execution_count": 73,
   "id": "fe6250a4",
   "metadata": {},
   "outputs": [],
   "source": [
    "l1.insert(2, \"xyz\")"
   ]
  },
  {
   "cell_type": "code",
   "execution_count": 74,
   "id": "154de1de",
   "metadata": {},
   "outputs": [
    {
     "data": {
      "text/plain": [
       "['sumar', 'amit', 'xyz', 60606]"
      ]
     },
     "execution_count": 74,
     "metadata": {},
     "output_type": "execute_result"
    }
   ],
   "source": [
    "l1"
   ]
  },
  {
   "cell_type": "code",
   "execution_count": 76,
   "id": "601a0e74",
   "metadata": {},
   "outputs": [],
   "source": [
    "l1.insert(4,[\"sudh\", \"kumar\", 43, 5+6j, 87.90, True])"
   ]
  },
  {
   "cell_type": "markdown",
   "id": "271601f2",
   "metadata": {},
   "source": [
    "l1"
   ]
  },
  {
   "cell_type": "code",
   "execution_count": 77,
   "id": "5edcd4b8",
   "metadata": {},
   "outputs": [
    {
     "data": {
      "text/plain": [
       "['sumar', 'amit', 'xyz', 60606, ['sudh', 'kumar', 43, (5+6j), 87.9, True]]"
      ]
     },
     "execution_count": 77,
     "metadata": {},
     "output_type": "execute_result"
    }
   ],
   "source": [
    "l1"
   ]
  },
  {
   "cell_type": "code",
   "execution_count": 78,
   "id": "178d6b5e",
   "metadata": {},
   "outputs": [
    {
     "ename": "SyntaxError",
     "evalue": "invalid syntax (Temp/ipykernel_8956/277950416.py, line 1)",
     "output_type": "error",
     "traceback": [
      "\u001b[1;36m  File \u001b[1;32m\"C:\\Users\\abc\\AppData\\Local\\Temp/ipykernel_8956/277950416.py\"\u001b[1;36m, line \u001b[1;32m1\u001b[0m\n\u001b[1;33m    l1(::-1)\u001b[0m\n\u001b[1;37m       ^\u001b[0m\n\u001b[1;31mSyntaxError\u001b[0m\u001b[1;31m:\u001b[0m invalid syntax\n"
     ]
    }
   ],
   "source": [
    "l1(::-1)"
   ]
  },
  {
   "cell_type": "code",
   "execution_count": 83,
   "id": "5c5e08b6",
   "metadata": {},
   "outputs": [
    {
     "data": {
      "text/plain": [
       "['sumar', 'amit', 'xyz', 60606, ['sudh', 'kumar', 43, (5+6j), 87.9, True]]"
      ]
     },
     "execution_count": 83,
     "metadata": {},
     "output_type": "execute_result"
    }
   ],
   "source": [
    "l1[::-1]"
   ]
  },
  {
   "cell_type": "code",
   "execution_count": 84,
   "id": "bb9c84a3",
   "metadata": {},
   "outputs": [
    {
     "data": {
      "text/plain": [
       "[['sudh', 'kumar', 43, (5+6j), 87.9, True], 60606, 'xyz', 'amit', 'sumar']"
      ]
     },
     "execution_count": 84,
     "metadata": {},
     "output_type": "execute_result"
    }
   ],
   "source": [
    "l1"
   ]
  },
  {
   "cell_type": "code",
   "execution_count": 80,
   "id": "2aafa1f6",
   "metadata": {},
   "outputs": [],
   "source": [
    "l1.reverse()"
   ]
  },
  {
   "cell_type": "code",
   "execution_count": 81,
   "id": "fb6e39b1",
   "metadata": {},
   "outputs": [
    {
     "data": {
      "text/plain": [
       "[['sudh', 'kumar', 43, (5+6j), 87.9, True], 60606, 'xyz', 'amit', 'sumar']"
      ]
     },
     "execution_count": 81,
     "metadata": {},
     "output_type": "execute_result"
    }
   ],
   "source": [
    "l1"
   ]
  },
  {
   "cell_type": "code",
   "execution_count": 82,
   "id": "8890173b",
   "metadata": {},
   "outputs": [
    {
     "data": {
      "text/plain": [
       "[['sudh', 'kumar', 43, (5+6j), 87.9, True], 60606, 'xyz', 'amit', 'sumar']"
      ]
     },
     "execution_count": 82,
     "metadata": {},
     "output_type": "execute_result"
    }
   ],
   "source": [
    "l1"
   ]
  },
  {
   "cell_type": "code",
   "execution_count": 85,
   "id": "ad989f1b",
   "metadata": {},
   "outputs": [],
   "source": [
    "z = \"with [::-1] it is reversed temporary but with reversed () function it is reversed permanently\""
   ]
  },
  {
   "cell_type": "code",
   "execution_count": 86,
   "id": "09119449",
   "metadata": {},
   "outputs": [
    {
     "data": {
      "text/plain": [
       "'with [::-1] it is reversed temporary but with reversed () function it is reversed permanently'"
      ]
     },
     "execution_count": 86,
     "metadata": {},
     "output_type": "execute_result"
    }
   ],
   "source": [
    "z"
   ]
  },
  {
   "cell_type": "code",
   "execution_count": 87,
   "id": "921f478c",
   "metadata": {},
   "outputs": [
    {
     "data": {
      "text/plain": [
       "[['sudh', 'kumar', 43, (5+6j), 87.9, True], 60606, 'xyz', 'amit', 'sumar']"
      ]
     },
     "execution_count": 87,
     "metadata": {},
     "output_type": "execute_result"
    }
   ],
   "source": [
    "l1"
   ]
  },
  {
   "cell_type": "code",
   "execution_count": 89,
   "id": "db8e72b7",
   "metadata": {},
   "outputs": [
    {
     "data": {
      "text/plain": [
       "['sudh', 'kumar', 43, (5+6j), 87.9, True]"
      ]
     },
     "execution_count": 89,
     "metadata": {},
     "output_type": "execute_result"
    }
   ],
   "source": [
    "l1[0]"
   ]
  },
  {
   "cell_type": "code",
   "execution_count": 90,
   "id": "127bf9a3",
   "metadata": {},
   "outputs": [
    {
     "data": {
      "text/plain": [
       "(5+6j)"
      ]
     },
     "execution_count": 90,
     "metadata": {},
     "output_type": "execute_result"
    }
   ],
   "source": [
    "l1[0][3]"
   ]
  },
  {
   "cell_type": "code",
   "execution_count": 92,
   "id": "1ccd87bf",
   "metadata": {},
   "outputs": [
    {
     "data": {
      "text/plain": [
       "0"
      ]
     },
     "execution_count": 92,
     "metadata": {},
     "output_type": "execute_result"
    }
   ],
   "source": [
    "l1.count(\"True\")"
   ]
  },
  {
   "cell_type": "code",
   "execution_count": 93,
   "id": "06093008",
   "metadata": {},
   "outputs": [
    {
     "data": {
      "text/plain": [
       "0"
      ]
     },
     "execution_count": 93,
     "metadata": {},
     "output_type": "execute_result"
    }
   ],
   "source": [
    "l1.count(\"43\")"
   ]
  },
  {
   "cell_type": "code",
   "execution_count": 94,
   "id": "704d8e0e",
   "metadata": {},
   "outputs": [
    {
     "data": {
      "text/plain": [
       "[['sudh', 'kumar', 43, (5+6j), 87.9, True], 60606, 'xyz', 'amit', 'sumar']"
      ]
     },
     "execution_count": 94,
     "metadata": {},
     "output_type": "execute_result"
    }
   ],
   "source": [
    "l1"
   ]
  },
  {
   "cell_type": "code",
   "execution_count": 96,
   "id": "d7f09179",
   "metadata": {},
   "outputs": [
    {
     "ename": "NameError",
     "evalue": "name 'amit' is not defined",
     "output_type": "error",
     "traceback": [
      "\u001b[1;31m---------------------------------------------------------------------------\u001b[0m",
      "\u001b[1;31mNameError\u001b[0m                                 Traceback (most recent call last)",
      "\u001b[1;32m~\\AppData\\Local\\Temp/ipykernel_8956/1709704633.py\u001b[0m in \u001b[0;36m<module>\u001b[1;34m\u001b[0m\n\u001b[1;32m----> 1\u001b[1;33m \u001b[0ml1\u001b[0m\u001b[1;33m.\u001b[0m\u001b[0mcount\u001b[0m\u001b[1;33m(\u001b[0m\u001b[0mamit\u001b[0m\u001b[1;33m)\u001b[0m\u001b[1;33m\u001b[0m\u001b[1;33m\u001b[0m\u001b[0m\n\u001b[0m",
      "\u001b[1;31mNameError\u001b[0m: name 'amit' is not defined"
     ]
    }
   ],
   "source": [
    "l1.count(amit)"
   ]
  },
  {
   "cell_type": "code",
   "execution_count": 1,
   "id": "c1b0e029",
   "metadata": {},
   "outputs": [
    {
     "ename": "NameError",
     "evalue": "name 'l1' is not defined",
     "output_type": "error",
     "traceback": [
      "\u001b[1;31m---------------------------------------------------------------------------\u001b[0m",
      "\u001b[1;31mNameError\u001b[0m                                 Traceback (most recent call last)",
      "\u001b[1;32m~\\AppData\\Local\\Temp/ipykernel_8500/2585568370.py\u001b[0m in \u001b[0;36m<module>\u001b[1;34m\u001b[0m\n\u001b[1;32m----> 1\u001b[1;33m \u001b[0ml1\u001b[0m\u001b[1;33m\u001b[0m\u001b[1;33m\u001b[0m\u001b[0m\n\u001b[0m",
      "\u001b[1;31mNameError\u001b[0m: name 'l1' is not defined"
     ]
    }
   ],
   "source": [
    "l1"
   ]
  },
  {
   "cell_type": "code",
   "execution_count": 2,
   "id": "8d26ecfe",
   "metadata": {},
   "outputs": [],
   "source": [
    "l1 = [[\"sudh\", \"kumar\", \"89\"], 56, \"xyz\"]"
   ]
  },
  {
   "cell_type": "code",
   "execution_count": 3,
   "id": "7dd33883",
   "metadata": {},
   "outputs": [
    {
     "data": {
      "text/plain": [
       "[['sudh', 'kumar', '89'], 56, 'xyz']"
      ]
     },
     "execution_count": 3,
     "metadata": {},
     "output_type": "execute_result"
    }
   ],
   "source": [
    "l1"
   ]
  },
  {
   "cell_type": "code",
   "execution_count": 4,
   "id": "6e68b94a",
   "metadata": {},
   "outputs": [
    {
     "data": {
      "text/plain": [
       "1"
      ]
     },
     "execution_count": 4,
     "metadata": {},
     "output_type": "execute_result"
    }
   ],
   "source": [
    "l1.count('xyz')"
   ]
  },
  {
   "cell_type": "code",
   "execution_count": 5,
   "id": "49e31844",
   "metadata": {},
   "outputs": [
    {
     "data": {
      "text/plain": [
       "1"
      ]
     },
     "execution_count": 5,
     "metadata": {},
     "output_type": "execute_result"
    }
   ],
   "source": [
    "l1.count(\"xyz\")"
   ]
  },
  {
   "cell_type": "code",
   "execution_count": 6,
   "id": "40e7c1d6",
   "metadata": {},
   "outputs": [],
   "source": [
    "l1.append([\"a\", \"b\", \"c\", \"43\"])"
   ]
  },
  {
   "cell_type": "code",
   "execution_count": 7,
   "id": "ab9df4eb",
   "metadata": {},
   "outputs": [
    {
     "data": {
      "text/plain": [
       "[['sudh', 'kumar', '89'], 56, 'xyz', ['a', 'b', 'c', '43']]"
      ]
     },
     "execution_count": 7,
     "metadata": {},
     "output_type": "execute_result"
    }
   ],
   "source": [
    "l1"
   ]
  },
  {
   "cell_type": "code",
   "execution_count": 8,
   "id": "27eaa9f5",
   "metadata": {},
   "outputs": [],
   "source": [
    "l1.extend([\"a\", \"b\", \"c\", 43])"
   ]
  },
  {
   "cell_type": "code",
   "execution_count": 9,
   "id": "6c4ad6f0",
   "metadata": {},
   "outputs": [
    {
     "data": {
      "text/plain": [
       "[['sudh', 'kumar', '89'], 56, 'xyz', ['a', 'b', 'c', '43'], 'a', 'b', 'c', 43]"
      ]
     },
     "execution_count": 9,
     "metadata": {},
     "output_type": "execute_result"
    }
   ],
   "source": [
    "l1"
   ]
  },
  {
   "cell_type": "code",
   "execution_count": 10,
   "id": "71c82d58",
   "metadata": {},
   "outputs": [],
   "source": [
    "z = \"diff bet append and extend. append is inserting list with elements as it is at the end. extend has opened the list and performed concatenation\""
   ]
  },
  {
   "cell_type": "code",
   "execution_count": 11,
   "id": "c7cd4e0a",
   "metadata": {},
   "outputs": [
    {
     "data": {
      "text/plain": [
       "'diff bet append and extend. append is inserting list with elements as it is at the end. extend has opened the list and performed concatenation'"
      ]
     },
     "execution_count": 11,
     "metadata": {},
     "output_type": "execute_result"
    }
   ],
   "source": [
    "z"
   ]
  },
  {
   "cell_type": "code",
   "execution_count": null,
   "id": "448545f0",
   "metadata": {},
   "outputs": [],
   "source": []
  }
 ],
 "metadata": {
  "kernelspec": {
   "display_name": "Python 3 (ipykernel)",
   "language": "python",
   "name": "python3"
  },
  "language_info": {
   "codemirror_mode": {
    "name": "ipython",
    "version": 3
   },
   "file_extension": ".py",
   "mimetype": "text/x-python",
   "name": "python",
   "nbconvert_exporter": "python",
   "pygments_lexer": "ipython3",
   "version": "3.9.7"
  }
 },
 "nbformat": 4,
 "nbformat_minor": 5
}
